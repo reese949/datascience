{
 "cells": [
  {
   "cell_type": "markdown",
   "id": "d2fdcd16",
   "metadata": {},
   "source": [
    "# Technology Sector vs. S&P 500 Benchmark Analysis\n",
    "\n",
    "Date: April 24, 2024 <br>\n",
    "Creator: Reese Oliver <br>\n",
    "Source: Yahoo Finance\n",
    "\n",
    "### In this project, we're going to analyze the strengths and weaknesses of two major index funds:\n",
    "\n",
    "1. The **iShares U.S. Technology ETF (IYW)** from **BlackRock, Inc**. This technology ETF provides broad exposure to the technology sector, which helps to diverisfy investors and shield against risk. BlackRock is the largest asset management company in the world, with over 9 trillion dollars in assets under management. <br>\n",
    "<br>\n",
    "2. **Standard and Poor's 500 (SPX)**, which is referred to as the **S&P 500 Index**. This index is one of the most popular indices in the world, and it comprises the shares of the largest 500 publicly traded companies in America with the highest values of market capitalisation. Because the S&P 500 tracks the price of large-cap US equities, it is considered a proxy for showing the health of the stockmarket and US economy."
   ]
  },
  {
   "cell_type": "markdown",
   "id": "1f990117",
   "metadata": {},
   "source": [
    "# Initial Exploration for Blackrock's ETF"
   ]
  },
  {
   "cell_type": "markdown",
   "id": "937292bf",
   "metadata": {},
   "source": [
    "First, we'll begin by importing all of the standard data analysis libraries, and after that, we'll run the magic command that allows us to display data visualizations inside of Jupyter Notebook."
   ]
  },
  {
   "cell_type": "code",
   "execution_count": 1,
   "id": "9229dae3",
   "metadata": {},
   "outputs": [],
   "source": [
    "import numpy as np\n",
    "import pandas as pd\n",
    "import matplotlib.pyplot as plt\n",
    "import matplotlib.style as style\n",
    "import mplcursors as mpl\n",
    "%matplotlib inline"
   ]
  },
  {
   "cell_type": "markdown",
   "id": "37c4444b",
   "metadata": {},
   "source": [
    "Let's begin by reading the datasets into our notebook. We'll start by reading The iShares U.S. Technology ETF (IYW) from BlackRock, Inc into a pandas DataFrame."
   ]
  },
  {
   "cell_type": "code",
   "execution_count": 2,
   "id": "219435b2",
   "metadata": {},
   "outputs": [],
   "source": [
    "iyw = pd.read_csv('blackrock_iyw_tech.csv')"
   ]
  },
  {
   "cell_type": "code",
   "execution_count": 3,
   "id": "b5317336",
   "metadata": {},
   "outputs": [
    {
     "data": {
      "text/html": [
       "<div>\n",
       "<style scoped>\n",
       "    .dataframe tbody tr th:only-of-type {\n",
       "        vertical-align: middle;\n",
       "    }\n",
       "\n",
       "    .dataframe tbody tr th {\n",
       "        vertical-align: top;\n",
       "    }\n",
       "\n",
       "    .dataframe thead th {\n",
       "        text-align: right;\n",
       "    }\n",
       "</style>\n",
       "<table border=\"1\" class=\"dataframe\">\n",
       "  <thead>\n",
       "    <tr style=\"text-align: right;\">\n",
       "      <th></th>\n",
       "      <th>Date</th>\n",
       "      <th>Open</th>\n",
       "      <th>High</th>\n",
       "      <th>Low</th>\n",
       "      <th>Close</th>\n",
       "      <th>Adj Close</th>\n",
       "      <th>Volume</th>\n",
       "    </tr>\n",
       "  </thead>\n",
       "  <tbody>\n",
       "    <tr>\n",
       "      <th>0</th>\n",
       "      <td>2000-05-19</td>\n",
       "      <td>27.765625</td>\n",
       "      <td>27.765625</td>\n",
       "      <td>27.437500</td>\n",
       "      <td>27.437500</td>\n",
       "      <td>23.689451</td>\n",
       "      <td>80000</td>\n",
       "    </tr>\n",
       "    <tr>\n",
       "      <th>1</th>\n",
       "      <td>2000-05-22</td>\n",
       "      <td>26.500000</td>\n",
       "      <td>26.500000</td>\n",
       "      <td>26.500000</td>\n",
       "      <td>26.500000</td>\n",
       "      <td>22.880022</td>\n",
       "      <td>400</td>\n",
       "    </tr>\n",
       "    <tr>\n",
       "      <th>2</th>\n",
       "      <td>2000-05-23</td>\n",
       "      <td>27.312500</td>\n",
       "      <td>27.312500</td>\n",
       "      <td>27.000000</td>\n",
       "      <td>27.093750</td>\n",
       "      <td>23.392653</td>\n",
       "      <td>104000</td>\n",
       "    </tr>\n",
       "    <tr>\n",
       "      <th>3</th>\n",
       "      <td>2000-05-24</td>\n",
       "      <td>25.734375</td>\n",
       "      <td>26.812500</td>\n",
       "      <td>24.875000</td>\n",
       "      <td>26.812500</td>\n",
       "      <td>23.149824</td>\n",
       "      <td>96400</td>\n",
       "    </tr>\n",
       "    <tr>\n",
       "      <th>4</th>\n",
       "      <td>2000-05-25</td>\n",
       "      <td>27.593750</td>\n",
       "      <td>27.617188</td>\n",
       "      <td>26.437500</td>\n",
       "      <td>26.437500</td>\n",
       "      <td>22.826054</td>\n",
       "      <td>64800</td>\n",
       "    </tr>\n",
       "    <tr>\n",
       "      <th>...</th>\n",
       "      <td>...</td>\n",
       "      <td>...</td>\n",
       "      <td>...</td>\n",
       "      <td>...</td>\n",
       "      <td>...</td>\n",
       "      <td>...</td>\n",
       "      <td>...</td>\n",
       "    </tr>\n",
       "    <tr>\n",
       "      <th>6015</th>\n",
       "      <td>2024-04-18</td>\n",
       "      <td>129.520004</td>\n",
       "      <td>130.070007</td>\n",
       "      <td>128.229996</td>\n",
       "      <td>128.410004</td>\n",
       "      <td>128.410004</td>\n",
       "      <td>1468800</td>\n",
       "    </tr>\n",
       "    <tr>\n",
       "      <th>6016</th>\n",
       "      <td>2024-04-19</td>\n",
       "      <td>127.790001</td>\n",
       "      <td>128.190002</td>\n",
       "      <td>124.320000</td>\n",
       "      <td>124.750000</td>\n",
       "      <td>124.750000</td>\n",
       "      <td>2094300</td>\n",
       "    </tr>\n",
       "    <tr>\n",
       "      <th>6017</th>\n",
       "      <td>2024-04-22</td>\n",
       "      <td>125.800003</td>\n",
       "      <td>127.070000</td>\n",
       "      <td>124.559998</td>\n",
       "      <td>126.239998</td>\n",
       "      <td>126.239998</td>\n",
       "      <td>1832600</td>\n",
       "    </tr>\n",
       "    <tr>\n",
       "      <th>6018</th>\n",
       "      <td>2024-04-23</td>\n",
       "      <td>127.080002</td>\n",
       "      <td>128.820007</td>\n",
       "      <td>126.849998</td>\n",
       "      <td>128.520004</td>\n",
       "      <td>128.520004</td>\n",
       "      <td>1326900</td>\n",
       "    </tr>\n",
       "    <tr>\n",
       "      <th>6019</th>\n",
       "      <td>2024-04-24</td>\n",
       "      <td>129.860001</td>\n",
       "      <td>130.169998</td>\n",
       "      <td>128.149994</td>\n",
       "      <td>128.929993</td>\n",
       "      <td>128.929993</td>\n",
       "      <td>677447</td>\n",
       "    </tr>\n",
       "  </tbody>\n",
       "</table>\n",
       "<p>6020 rows × 7 columns</p>\n",
       "</div>"
      ],
      "text/plain": [
       "            Date        Open        High         Low       Close   Adj Close  \\\n",
       "0     2000-05-19   27.765625   27.765625   27.437500   27.437500   23.689451   \n",
       "1     2000-05-22   26.500000   26.500000   26.500000   26.500000   22.880022   \n",
       "2     2000-05-23   27.312500   27.312500   27.000000   27.093750   23.392653   \n",
       "3     2000-05-24   25.734375   26.812500   24.875000   26.812500   23.149824   \n",
       "4     2000-05-25   27.593750   27.617188   26.437500   26.437500   22.826054   \n",
       "...          ...         ...         ...         ...         ...         ...   \n",
       "6015  2024-04-18  129.520004  130.070007  128.229996  128.410004  128.410004   \n",
       "6016  2024-04-19  127.790001  128.190002  124.320000  124.750000  124.750000   \n",
       "6017  2024-04-22  125.800003  127.070000  124.559998  126.239998  126.239998   \n",
       "6018  2024-04-23  127.080002  128.820007  126.849998  128.520004  128.520004   \n",
       "6019  2024-04-24  129.860001  130.169998  128.149994  128.929993  128.929993   \n",
       "\n",
       "       Volume  \n",
       "0       80000  \n",
       "1         400  \n",
       "2      104000  \n",
       "3       96400  \n",
       "4       64800  \n",
       "...       ...  \n",
       "6015  1468800  \n",
       "6016  2094300  \n",
       "6017  1832600  \n",
       "6018  1326900  \n",
       "6019   677447  \n",
       "\n",
       "[6020 rows x 7 columns]"
      ]
     },
     "execution_count": 3,
     "metadata": {},
     "output_type": "execute_result"
    }
   ],
   "source": [
    "iyw"
   ]
  },
  {
   "cell_type": "markdown",
   "id": "c999e28b",
   "metadata": {},
   "source": [
    "The dataset contains 6020 rows, with daily entries from May, 19, 2000 to the present date of April 24, 2024. Next, we'll run the `dataframe.info()` function to explore the dataset further. Our goal right now is to find out if there are any columns that need data cleaning."
   ]
  },
  {
   "cell_type": "code",
   "execution_count": 4,
   "id": "e6cee4c2",
   "metadata": {},
   "outputs": [
    {
     "name": "stdout",
     "output_type": "stream",
     "text": [
      "<class 'pandas.core.frame.DataFrame'>\n",
      "RangeIndex: 6020 entries, 0 to 6019\n",
      "Data columns (total 7 columns):\n",
      " #   Column     Non-Null Count  Dtype  \n",
      "---  ------     --------------  -----  \n",
      " 0   Date       6020 non-null   object \n",
      " 1   Open       6020 non-null   float64\n",
      " 2   High       6020 non-null   float64\n",
      " 3   Low        6020 non-null   float64\n",
      " 4   Close      6020 non-null   float64\n",
      " 5   Adj Close  6020 non-null   float64\n",
      " 6   Volume     6020 non-null   int64  \n",
      "dtypes: float64(5), int64(1), object(1)\n",
      "memory usage: 329.3+ KB\n"
     ]
    }
   ],
   "source": [
    "iyw.info()"
   ]
  },
  {
   "cell_type": "markdown",
   "id": "7b1c5297",
   "metadata": {},
   "source": [
    "It appears that all the columns have uniform length and uniform data type. Let's explore further to see if we can find any columns that need cleaning in this dataset."
   ]
  },
  {
   "cell_type": "markdown",
   "id": "6811de71",
   "metadata": {},
   "source": [
    "# Cleaning Phase for Blackrock's ETF"
   ]
  },
  {
   "cell_type": "markdown",
   "id": "e3de18c2",
   "metadata": {},
   "source": [
    "The first thing we'll want to do is convert the `Date` column into the `datetime` datatype by using `pd.to_datetime()`. It's important to convert your date columns to the `datetime` datatype because this datatype is more compatible with Pandas and Matplotlib. The datetime datatype ensures that dates are consistently formatted throughout the dataset, which is essential for accurate comparisons, calculations, and visualizations.\n",
    "\n",
    "After that, we'll run `Series.value_counts()` on each column to see the counts of unique values in each column. Inside of `Series.value_counts()`, we'll set the `dropna` parameter to `False`, and by doing this, we'll be able to include NaN (Not a Number) values in our counts, which allows us to see how many missing values are present in each column."
   ]
  },
  {
   "cell_type": "code",
   "execution_count": 5,
   "id": "37b0e949",
   "metadata": {},
   "outputs": [
    {
     "name": "stdout",
     "output_type": "stream",
     "text": [
      "<class 'pandas.core.frame.DataFrame'>\n",
      "RangeIndex: 6020 entries, 0 to 6019\n",
      "Data columns (total 7 columns):\n",
      " #   Column     Non-Null Count  Dtype         \n",
      "---  ------     --------------  -----         \n",
      " 0   Date       6020 non-null   datetime64[ns]\n",
      " 1   Open       6020 non-null   float64       \n",
      " 2   High       6020 non-null   float64       \n",
      " 3   Low        6020 non-null   float64       \n",
      " 4   Close      6020 non-null   float64       \n",
      " 5   Adj Close  6020 non-null   float64       \n",
      " 6   Volume     6020 non-null   int64         \n",
      "dtypes: datetime64[ns](1), float64(5), int64(1)\n",
      "memory usage: 329.3 KB\n"
     ]
    }
   ],
   "source": [
    "iyw['Date'] = pd.to_datetime(iyw['Date'])\n",
    "iyw.info()"
   ]
  },
  {
   "cell_type": "code",
   "execution_count": 6,
   "id": "d91bd622",
   "metadata": {},
   "outputs": [
    {
     "name": "stdout",
     "output_type": "stream",
     "text": [
      "Column Name: Date\n",
      "2000-05-19    1\n",
      "2016-04-29    1\n",
      "2016-05-12    1\n",
      "2016-05-11    1\n",
      "2016-05-10    1\n",
      "             ..\n",
      "2008-05-12    1\n",
      "2008-05-09    1\n",
      "2008-05-08    1\n",
      "2008-05-07    1\n",
      "2024-04-24    1\n",
      "Name: count, Length: 6020, dtype: int64\n",
      "Column Name: Open\n",
      "12.212500     8\n",
      "11.662500     8\n",
      "12.250000     8\n",
      "11.650000     8\n",
      "11.387500     7\n",
      "             ..\n",
      "17.680000     1\n",
      "17.865000     1\n",
      "17.857500     1\n",
      "18.389999     1\n",
      "129.860001    1\n",
      "Name: count, Length: 4638, dtype: int64\n",
      "Column Name: High\n",
      "14.475000     7\n",
      "12.275000     6\n",
      "13.740000     6\n",
      "12.000000     6\n",
      "12.997500     6\n",
      "             ..\n",
      "16.420000     1\n",
      "16.475000     1\n",
      "16.580000     1\n",
      "16.545000     1\n",
      "130.169998    1\n",
      "Name: count, Length: 4810, dtype: int64\n",
      "Column Name: Low\n",
      "11.687500     7\n",
      "25.312500     6\n",
      "13.700000     6\n",
      "11.587500     5\n",
      "11.470000     5\n",
      "             ..\n",
      "17.032499     1\n",
      "17.172501     1\n",
      "17.387501     1\n",
      "17.482500     1\n",
      "128.149994    1\n",
      "Name: count, Length: 4770, dtype: int64\n",
      "Column Name: Close\n",
      "11.650000     7\n",
      "11.750000     7\n",
      "12.200000     7\n",
      "12.850000     6\n",
      "11.950000     6\n",
      "             ..\n",
      "16.195000     1\n",
      "16.272499     1\n",
      "16.252501     1\n",
      "16.465000     1\n",
      "128.929993    1\n",
      "Name: count, Length: 4786, dtype: int64\n",
      "Column Name: Adj Close\n",
      "10.144913     5\n",
      "7.522348      4\n",
      "10.177297     4\n",
      "10.058576     4\n",
      "10.060731     4\n",
      "             ..\n",
      "11.587780     1\n",
      "11.469785     1\n",
      "11.409680     1\n",
      "11.405226     1\n",
      "128.929993    1\n",
      "Name: count, Length: 5587, dtype: int64\n",
      "Column Name: Volume\n",
      "293200    8\n",
      "108400    8\n",
      "316400    7\n",
      "453600    7\n",
      "367200    7\n",
      "         ..\n",
      "59600     1\n",
      "863200    1\n",
      "43600     1\n",
      "623600    1\n",
      "677447    1\n",
      "Name: count, Length: 3682, dtype: int64\n"
     ]
    }
   ],
   "source": [
    "columns = iyw.columns\n",
    "\n",
    "for c in columns:\n",
    "    print(\"Column Name:\", iyw[c].value_counts())"
   ]
  },
  {
   "cell_type": "markdown",
   "id": "dda54bd5",
   "metadata": {},
   "source": [
    "Besides the `Date` column, there doesn't appear to be any non-number entries, so our calculations will not be thrown off. This dataset is already very clean, so we won't have to filter it and instead we can skip right to creating data visualizations. In the code below, we'll create some preliminary visualizations."
   ]
  },
  {
   "cell_type": "code",
   "execution_count": 7,
   "id": "d38093d5",
   "metadata": {},
   "outputs": [
    {
     "data": {
      "text/plain": [
       "Text(0, 0.5, 'Closing Price')"
      ]
     },
     "execution_count": 7,
     "metadata": {},
     "output_type": "execute_result"
    },
    {
     "data": {
      "image/png": "[encoded data removed]",
      "text/plain": [
       "<Figure size 640x480 with 1 Axes>"
      ]
     },
     "metadata": {},
     "output_type": "display_data"
    }
   ],
   "source": [
    "plt.plot(iyw['Date'],iyw['Close'], linewidth=1)\n",
    "plt.title('iShares Technology ETF Historical Price')\n",
    "plt.xlabel('Date')\n",
    "plt.ylabel('Closing Price')"
   ]
  },
  {
   "cell_type": "markdown",
   "id": "fd805d57",
   "metadata": {},
   "source": [
    "The span of time for this line plot is very large, so let's try focusing on smaller sections of time. In the next two visualizations, we'll focus on 2007-2009, which will show us the Great Recession. After that, we can focus on 2020-2023 to show the performance during the COVID pandemic."
   ]
  },
  {
   "cell_type": "code",
   "execution_count": 8,
   "id": "e2985700",
   "metadata": {},
   "outputs": [
    {
     "data": {
      "text/html": [
       "<div>\n",
       "<style scoped>\n",
       "    .dataframe tbody tr th:only-of-type {\n",
       "        vertical-align: middle;\n",
       "    }\n",
       "\n",
       "    .dataframe tbody tr th {\n",
       "        vertical-align: top;\n",
       "    }\n",
       "\n",
       "    .dataframe thead th {\n",
       "        text-align: right;\n",
       "    }\n",
       "</style>\n",
       "<table border=\"1\" class=\"dataframe\">\n",
       "  <thead>\n",
       "    <tr style=\"text-align: right;\">\n",
       "      <th></th>\n",
       "      <th>Date</th>\n",
       "      <th>Open</th>\n",
       "      <th>High</th>\n",
       "      <th>Low</th>\n",
       "      <th>Close</th>\n",
       "      <th>Adj Close</th>\n",
       "      <th>Volume</th>\n",
       "    </tr>\n",
       "  </thead>\n",
       "  <tbody>\n",
       "    <tr>\n",
       "      <th>1412</th>\n",
       "      <td>2006-01-03</td>\n",
       "      <td>12.4950</td>\n",
       "      <td>12.7450</td>\n",
       "      <td>12.3975</td>\n",
       "      <td>12.6975</td>\n",
       "      <td>11.139487</td>\n",
       "      <td>1222800</td>\n",
       "    </tr>\n",
       "    <tr>\n",
       "      <th>1413</th>\n",
       "      <td>2006-01-04</td>\n",
       "      <td>12.7450</td>\n",
       "      <td>12.8750</td>\n",
       "      <td>12.7450</td>\n",
       "      <td>12.8650</td>\n",
       "      <td>11.286431</td>\n",
       "      <td>314400</td>\n",
       "    </tr>\n",
       "    <tr>\n",
       "      <th>1414</th>\n",
       "      <td>2006-01-05</td>\n",
       "      <td>12.9000</td>\n",
       "      <td>12.9975</td>\n",
       "      <td>12.8925</td>\n",
       "      <td>12.9975</td>\n",
       "      <td>11.402675</td>\n",
       "      <td>640800</td>\n",
       "    </tr>\n",
       "    <tr>\n",
       "      <th>1415</th>\n",
       "      <td>2006-01-06</td>\n",
       "      <td>13.1075</td>\n",
       "      <td>13.2300</td>\n",
       "      <td>13.0300</td>\n",
       "      <td>13.2150</td>\n",
       "      <td>11.593489</td>\n",
       "      <td>1303200</td>\n",
       "    </tr>\n",
       "    <tr>\n",
       "      <th>1416</th>\n",
       "      <td>2006-01-09</td>\n",
       "      <td>13.2100</td>\n",
       "      <td>13.3100</td>\n",
       "      <td>13.1650</td>\n",
       "      <td>13.2575</td>\n",
       "      <td>11.630775</td>\n",
       "      <td>456000</td>\n",
       "    </tr>\n",
       "    <tr>\n",
       "      <th>...</th>\n",
       "      <td>...</td>\n",
       "      <td>...</td>\n",
       "      <td>...</td>\n",
       "      <td>...</td>\n",
       "      <td>...</td>\n",
       "      <td>...</td>\n",
       "      <td>...</td>\n",
       "    </tr>\n",
       "    <tr>\n",
       "      <th>2414</th>\n",
       "      <td>2009-12-24</td>\n",
       "      <td>14.3500</td>\n",
       "      <td>14.4750</td>\n",
       "      <td>14.3375</td>\n",
       "      <td>14.4700</td>\n",
       "      <td>12.912599</td>\n",
       "      <td>1376000</td>\n",
       "    </tr>\n",
       "    <tr>\n",
       "      <th>2415</th>\n",
       "      <td>2009-12-28</td>\n",
       "      <td>14.5075</td>\n",
       "      <td>14.5425</td>\n",
       "      <td>14.4150</td>\n",
       "      <td>14.4875</td>\n",
       "      <td>12.928216</td>\n",
       "      <td>1486800</td>\n",
       "    </tr>\n",
       "    <tr>\n",
       "      <th>2416</th>\n",
       "      <td>2009-12-29</td>\n",
       "      <td>14.5125</td>\n",
       "      <td>14.5150</td>\n",
       "      <td>14.4450</td>\n",
       "      <td>14.4600</td>\n",
       "      <td>12.903677</td>\n",
       "      <td>954800</td>\n",
       "    </tr>\n",
       "    <tr>\n",
       "      <th>2417</th>\n",
       "      <td>2009-12-30</td>\n",
       "      <td>14.4450</td>\n",
       "      <td>14.5325</td>\n",
       "      <td>14.4275</td>\n",
       "      <td>14.5325</td>\n",
       "      <td>12.968369</td>\n",
       "      <td>788000</td>\n",
       "    </tr>\n",
       "    <tr>\n",
       "      <th>2418</th>\n",
       "      <td>2009-12-31</td>\n",
       "      <td>14.5575</td>\n",
       "      <td>14.5600</td>\n",
       "      <td>14.3800</td>\n",
       "      <td>14.3850</td>\n",
       "      <td>12.836748</td>\n",
       "      <td>1329600</td>\n",
       "    </tr>\n",
       "  </tbody>\n",
       "</table>\n",
       "<p>1007 rows × 7 columns</p>\n",
       "</div>"
      ],
      "text/plain": [
       "           Date     Open     High      Low    Close  Adj Close   Volume\n",
       "1412 2006-01-03  12.4950  12.7450  12.3975  12.6975  11.139487  1222800\n",
       "1413 2006-01-04  12.7450  12.8750  12.7450  12.8650  11.286431   314400\n",
       "1414 2006-01-05  12.9000  12.9975  12.8925  12.9975  11.402675   640800\n",
       "1415 2006-01-06  13.1075  13.2300  13.0300  13.2150  11.593489  1303200\n",
       "1416 2006-01-09  13.2100  13.3100  13.1650  13.2575  11.630775   456000\n",
       "...         ...      ...      ...      ...      ...        ...      ...\n",
       "2414 2009-12-24  14.3500  14.4750  14.3375  14.4700  12.912599  1376000\n",
       "2415 2009-12-28  14.5075  14.5425  14.4150  14.4875  12.928216  1486800\n",
       "2416 2009-12-29  14.5125  14.5150  14.4450  14.4600  12.903677   954800\n",
       "2417 2009-12-30  14.4450  14.5325  14.4275  14.5325  12.968369   788000\n",
       "2418 2009-12-31  14.5575  14.5600  14.3800  14.3850  12.836748  1329600\n",
       "\n",
       "[1007 rows x 7 columns]"
      ]
     },
     "execution_count": 8,
     "metadata": {},
     "output_type": "execute_result"
    }
   ],
   "source": [
    "iyw_recession = iyw[iyw['Date'].between(pd.to_datetime('2006-01-01'),pd.to_datetime('2010-01-01'))]\n",
    "iyw_recession"
   ]
  },
  {
   "cell_type": "code",
   "execution_count": 9,
   "id": "bfacec20",
   "metadata": {},
   "outputs": [
    {
     "data": {
      "image/png": "[encoded data removed]",
      "text/plain": [
       "<Figure size 640x480 with 1 Axes>"
      ]
     },
     "metadata": {},
     "output_type": "display_data"
    }
   ],
   "source": [
    "plt.plot(iyw_recession['Date'],iyw_recession['Close'])\n",
    "plt.title('iShares Technology ETF Price during the Great Recession')\n",
    "plt.xticks(rotation=45)\n",
    "plt.show()"
   ]
  },
  {
   "cell_type": "code",
   "execution_count": 10,
   "id": "7b117afc",
   "metadata": {},
   "outputs": [
    {
     "data": {
      "text/html": [
       "<div>\n",
       "<style scoped>\n",
       "    .dataframe tbody tr th:only-of-type {\n",
       "        vertical-align: middle;\n",
       "    }\n",
       "\n",
       "    .dataframe tbody tr th {\n",
       "        vertical-align: top;\n",
       "    }\n",
       "\n",
       "    .dataframe thead th {\n",
       "        text-align: right;\n",
       "    }\n",
       "</style>\n",
       "<table border=\"1\" class=\"dataframe\">\n",
       "  <thead>\n",
       "    <tr style=\"text-align: right;\">\n",
       "      <th></th>\n",
       "      <th>Date</th>\n",
       "      <th>Open</th>\n",
       "      <th>High</th>\n",
       "      <th>Low</th>\n",
       "      <th>Close</th>\n",
       "      <th>Adj Close</th>\n",
       "      <th>Volume</th>\n",
       "    </tr>\n",
       "  </thead>\n",
       "  <tbody>\n",
       "    <tr>\n",
       "      <th>4829</th>\n",
       "      <td>2019-08-01</td>\n",
       "      <td>51.810001</td>\n",
       "      <td>52.869999</td>\n",
       "      <td>51.180000</td>\n",
       "      <td>51.427502</td>\n",
       "      <td>50.166836</td>\n",
       "      <td>502800</td>\n",
       "    </tr>\n",
       "    <tr>\n",
       "      <th>4830</th>\n",
       "      <td>2019-08-02</td>\n",
       "      <td>50.970001</td>\n",
       "      <td>51.020000</td>\n",
       "      <td>50.167500</td>\n",
       "      <td>50.439999</td>\n",
       "      <td>49.203545</td>\n",
       "      <td>544000</td>\n",
       "    </tr>\n",
       "    <tr>\n",
       "      <th>4831</th>\n",
       "      <td>2019-08-05</td>\n",
       "      <td>49.167500</td>\n",
       "      <td>49.167500</td>\n",
       "      <td>48.012501</td>\n",
       "      <td>48.424999</td>\n",
       "      <td>47.237946</td>\n",
       "      <td>1787600</td>\n",
       "    </tr>\n",
       "    <tr>\n",
       "      <th>4832</th>\n",
       "      <td>2019-08-06</td>\n",
       "      <td>49.007500</td>\n",
       "      <td>49.355000</td>\n",
       "      <td>48.610001</td>\n",
       "      <td>49.107498</td>\n",
       "      <td>47.903709</td>\n",
       "      <td>491200</td>\n",
       "    </tr>\n",
       "    <tr>\n",
       "      <th>4833</th>\n",
       "      <td>2019-08-07</td>\n",
       "      <td>48.577499</td>\n",
       "      <td>49.430000</td>\n",
       "      <td>48.305000</td>\n",
       "      <td>49.342499</td>\n",
       "      <td>48.132942</td>\n",
       "      <td>1181200</td>\n",
       "    </tr>\n",
       "    <tr>\n",
       "      <th>...</th>\n",
       "      <td>...</td>\n",
       "      <td>...</td>\n",
       "      <td>...</td>\n",
       "      <td>...</td>\n",
       "      <td>...</td>\n",
       "      <td>...</td>\n",
       "      <td>...</td>\n",
       "    </tr>\n",
       "    <tr>\n",
       "      <th>5993</th>\n",
       "      <td>2024-03-18</td>\n",
       "      <td>134.110001</td>\n",
       "      <td>135.100006</td>\n",
       "      <td>133.330002</td>\n",
       "      <td>133.529999</td>\n",
       "      <td>133.452347</td>\n",
       "      <td>1448900</td>\n",
       "    </tr>\n",
       "    <tr>\n",
       "      <th>5994</th>\n",
       "      <td>2024-03-19</td>\n",
       "      <td>132.720001</td>\n",
       "      <td>134.289993</td>\n",
       "      <td>131.759995</td>\n",
       "      <td>134.139999</td>\n",
       "      <td>134.061996</td>\n",
       "      <td>1315100</td>\n",
       "    </tr>\n",
       "    <tr>\n",
       "      <th>5995</th>\n",
       "      <td>2024-03-20</td>\n",
       "      <td>134.440002</td>\n",
       "      <td>135.860001</td>\n",
       "      <td>133.809998</td>\n",
       "      <td>135.850006</td>\n",
       "      <td>135.771011</td>\n",
       "      <td>552800</td>\n",
       "    </tr>\n",
       "    <tr>\n",
       "      <th>5996</th>\n",
       "      <td>2024-03-21</td>\n",
       "      <td>137.479996</td>\n",
       "      <td>137.539993</td>\n",
       "      <td>135.919998</td>\n",
       "      <td>136.139999</td>\n",
       "      <td>136.139999</td>\n",
       "      <td>666100</td>\n",
       "    </tr>\n",
       "    <tr>\n",
       "      <th>5997</th>\n",
       "      <td>2024-03-22</td>\n",
       "      <td>136.039993</td>\n",
       "      <td>137.080002</td>\n",
       "      <td>135.889999</td>\n",
       "      <td>136.589996</td>\n",
       "      <td>136.589996</td>\n",
       "      <td>500600</td>\n",
       "    </tr>\n",
       "  </tbody>\n",
       "</table>\n",
       "<p>1169 rows × 7 columns</p>\n",
       "</div>"
      ],
      "text/plain": [
       "           Date        Open        High         Low       Close   Adj Close  \\\n",
       "4829 2019-08-01   51.810001   52.869999   51.180000   51.427502   50.166836   \n",
       "4830 2019-08-02   50.970001   51.020000   50.167500   50.439999   49.203545   \n",
       "4831 2019-08-05   49.167500   49.167500   48.012501   48.424999   47.237946   \n",
       "4832 2019-08-06   49.007500   49.355000   48.610001   49.107498   47.903709   \n",
       "4833 2019-08-07   48.577499   49.430000   48.305000   49.342499   48.132942   \n",
       "...         ...         ...         ...         ...         ...         ...   \n",
       "5993 2024-03-18  134.110001  135.100006  133.330002  133.529999  133.452347   \n",
       "5994 2024-03-19  132.720001  134.289993  131.759995  134.139999  134.061996   \n",
       "5995 2024-03-20  134.440002  135.860001  133.809998  135.850006  135.771011   \n",
       "5996 2024-03-21  137.479996  137.539993  135.919998  136.139999  136.139999   \n",
       "5997 2024-03-22  136.039993  137.080002  135.889999  136.589996  136.589996   \n",
       "\n",
       "       Volume  \n",
       "4829   502800  \n",
       "4830   544000  \n",
       "4831  1787600  \n",
       "4832   491200  \n",
       "4833  1181200  \n",
       "...       ...  \n",
       "5993  1448900  \n",
       "5994  1315100  \n",
       "5995   552800  \n",
       "5996   666100  \n",
       "5997   500600  \n",
       "\n",
       "[1169 rows x 7 columns]"
      ]
     },
     "execution_count": 10,
     "metadata": {},
     "output_type": "execute_result"
    }
   ],
   "source": [
    "iyw_covid = iyw[iyw['Date'].between(pd.to_datetime('2019-08-01'),pd.to_datetime('2024-03-24'))]\n",
    "iyw_covid"
   ]
  },
  {
   "cell_type": "code",
   "execution_count": 11,
   "id": "086d05bd",
   "metadata": {},
   "outputs": [
    {
     "data": {
      "text/plain": [
       "(array([17897., 18262., 18628., 18993., 19358., 19723.]),\n",
       " [Text(17897.0, 0, '2019'),\n",
       "  Text(18262.0, 0, '2020'),\n",
       "  Text(18628.0, 0, '2021'),\n",
       "  Text(18993.0, 0, '2022'),\n",
       "  Text(19358.0, 0, '2023'),\n",
       "  Text(19723.0, 0, '2024')])"
      ]
     },
     "execution_count": 11,
     "metadata": {},
     "output_type": "execute_result"
    },
    {
     "data": {
      "image/png": "[encoded data removed]",
      "text/plain": [
       "<Figure size 640x480 with 1 Axes>"
      ]
     },
     "metadata": {},
     "output_type": "display_data"
    }
   ],
   "source": [
    "plt.plot(iyw_covid['Date'], iyw_covid['Close'])\n",
    "plt.title('iShares Technology ETF Price during COVID-19 Pandemic')\n",
    "plt.xticks(rotation=45)"
   ]
  },
  {
   "cell_type": "markdown",
   "id": "fe92e947",
   "metadata": {},
   "source": [
    "If we look at the shape of the line on each of these three visuals, we see many small wiggles — rather than seeing a smooth line. The wiggles, however, have meaning: they are the visual representation of the daily variation in the stock price. The price goes up and down, up and down again, day to day. The price only shows clear upward or downward trends in the longer run (months or years).\n",
    "\n",
    "Depending on our goals, we may not want to show that daily variation on our graph. If we want to show only the long-term trends, we can use the rolling mean (also known as the moving average).\n",
    "\n",
    "In the code below, we'll use a rolling 30 day average to see the longer term trends for the iShares ETF."
   ]
  },
  {
   "cell_type": "code",
   "execution_count": 12,
   "id": "ddc31006",
   "metadata": {},
   "outputs": [
    {
     "data": {
      "image/png": "[encoded data removed]",
      "text/plain": [
       "<Figure size 800x300 with 1 Axes>"
      ]
     },
     "metadata": {},
     "output_type": "display_data"
    }
   ],
   "source": [
    "#change the style of the plot\n",
    "style.use('fivethirtyeight')\n",
    "\n",
    "#use the plt.subplots() function to instantiate a figure and axes object to create a plot\n",
    "fig, ax = plt.subplots(figsize=(8,3))\n",
    "\n",
    "#the line plot is coded below, we incorporate a rolling 30 day average\n",
    "ax.plot(iyw_recession['Date'], iyw_recession['Close'].rolling(30).mean(),linewidth=1)\n",
    "ax.tick_params(axis='x',labelsize=10)\n",
    "ax.text(pd.to_datetime('2006-01-01'),17,s='BlackRock iShares Technology ETF during the Great Recession')\n",
    "ax.axvspan(pd.to_datetime('2007-12-01'),pd.to_datetime('2009-06-01'), alpha=0.2, color='red')\n",
    "ax.axvline(pd.to_datetime('2009-03-01'), color='green', linewidth=1.75, linestyle='--')\n",
    "ax.text(pd.to_datetime('2009-03-05'),7.8,s='American Recovery and Reinvestment Act', fontsize=8, rotation=45, color='green')\n",
    "ax.get_xticks()\n",
    "fig.savefig('/Users/reese/Downloads/iyw_recession.pdf')"
   ]
  },
  {
   "cell_type": "code",
   "execution_count": 13,
   "id": "db7c5d0a",
   "metadata": {},
   "outputs": [
    {
     "data": {
      "text/plain": [
       "<matplotlib.lines.Line2D at 0x1687d3d90>"
      ]
     },
     "execution_count": 13,
     "metadata": {},
     "output_type": "execute_result"
    },
    {
     "data": {
      "image/png": "[encoded data removed]",
      "text/plain": [
       "<Figure size 800x300 with 1 Axes>"
      ]
     },
     "metadata": {},
     "output_type": "display_data"
    }
   ],
   "source": [
    "fig, ax = plt.subplots(figsize=(8,3))\n",
    "ax.plot(iyw_covid['Date'], iyw_covid['Close'].rolling(30).mean(), linewidth=1, color='#bf00ff')\n",
    "ax.set_ylabel('Share Price $',fontsize=10)\n",
    "ax.set_xlabel('Date',fontsize=10)\n",
    "ax.tick_params(axis='x',labelsize=10)\n",
    "ax.text(pd.to_datetime('2019-07-01'),140,s=\"BlackRock iShares Technology ETF during Covid-19\")\n",
    "ax.axvspan(pd.to_datetime('2020-03-11'),pd.to_datetime('2023-05-11'), alpha=0.2, color='green')\n",
    "ax.axvline(pd.to_datetime('2019-12-31'), color='#bf0000', linewidth=1.75, linestyle='-', ymax=0.77)\n",
    "ax.text(pd.to_datetime('2019-12-08'), 117, s='Covid Discovered in China', size=8, rotation=15, color='#bf0000', weight='bold')\n",
    "ax.axvline(pd.to_datetime('2020-03-11'), linewidth=1.75, linestyle='-', color='#bf0000', ymax=0.6)\n",
    "ax.text(pd.to_datetime('2020-02-10'), 103, rotation=15, color='#bf0000', s='WHO Declares Global Pandemic', size=8, weight='bold')\n",
    "ax.axvline(pd.to_datetime('2020-03-20'), color='blue', linewidth=1.75, linestyle='-', ymax=0.3)\n",
    "ax.text(pd.to_datetime('2020-03-20'), 75, rotation=15, color='blue', s='Interest Rates Cut', size=8, weight='bold')\n",
    "ax.axvline(pd.to_datetime('2022-03-01'), color='#bf0000', linewidth=1.75, linestyle='-', ymax=0.8)\n",
    "ax.text(pd.to_datetime('2022-02-08'), 121, rotation=15, color='#bf0000', s='Fed Raises Rates', size=8, weight='bold')\n",
    "ax.text(pd.to_datetime('2022-11-15'), 121, rotation=15, color='blue', s='OpenAI Introduces ChatGPT', size=8, weight='bold')\n",
    "ax.axvline(pd.to_datetime('2022-11-30'), color='blue', linewidth=1.75, linestyle='-', ymax=0.8)"
   ]
  },
  {
   "cell_type": "code",
   "execution_count": 14,
   "id": "000d3533",
   "metadata": {},
   "outputs": [],
   "source": [
    "fig.savefig('/Users/reese/Downloads/iyw_covid.pdf')"
   ]
  },
  {
   "cell_type": "markdown",
   "id": "d556f0da",
   "metadata": {},
   "source": [
    "# Calculating Average Annual Growth for Blackrock's ETF"
   ]
  },
  {
   "cell_type": "code",
   "execution_count": 15,
   "id": "0c59e055",
   "metadata": {},
   "outputs": [],
   "source": [
    "#set the date column as the index\n",
    "iyw.set_index('Date', inplace=True)"
   ]
  },
  {
   "cell_type": "code",
   "execution_count": 16,
   "id": "d5ee6c50",
   "metadata": {},
   "outputs": [
    {
     "data": {
      "text/html": [
       "<div>\n",
       "<style scoped>\n",
       "    .dataframe tbody tr th:only-of-type {\n",
       "        vertical-align: middle;\n",
       "    }\n",
       "\n",
       "    .dataframe tbody tr th {\n",
       "        vertical-align: top;\n",
       "    }\n",
       "\n",
       "    .dataframe thead th {\n",
       "        text-align: right;\n",
       "    }\n",
       "</style>\n",
       "<table border=\"1\" class=\"dataframe\">\n",
       "  <thead>\n",
       "    <tr style=\"text-align: right;\">\n",
       "      <th></th>\n",
       "      <th>Open</th>\n",
       "      <th>High</th>\n",
       "      <th>Low</th>\n",
       "      <th>Close</th>\n",
       "      <th>Adj Close</th>\n",
       "      <th>Volume</th>\n",
       "    </tr>\n",
       "    <tr>\n",
       "      <th>Date</th>\n",
       "      <th></th>\n",
       "      <th></th>\n",
       "      <th></th>\n",
       "      <th></th>\n",
       "      <th></th>\n",
       "      <th></th>\n",
       "    </tr>\n",
       "  </thead>\n",
       "  <tbody>\n",
       "    <tr>\n",
       "      <th>2000-05-19</th>\n",
       "      <td>27.765625</td>\n",
       "      <td>27.765625</td>\n",
       "      <td>27.437500</td>\n",
       "      <td>27.437500</td>\n",
       "      <td>23.689451</td>\n",
       "      <td>80000</td>\n",
       "    </tr>\n",
       "    <tr>\n",
       "      <th>2000-05-22</th>\n",
       "      <td>26.500000</td>\n",
       "      <td>26.500000</td>\n",
       "      <td>26.500000</td>\n",
       "      <td>26.500000</td>\n",
       "      <td>22.880022</td>\n",
       "      <td>400</td>\n",
       "    </tr>\n",
       "    <tr>\n",
       "      <th>2000-05-23</th>\n",
       "      <td>27.312500</td>\n",
       "      <td>27.312500</td>\n",
       "      <td>27.000000</td>\n",
       "      <td>27.093750</td>\n",
       "      <td>23.392653</td>\n",
       "      <td>104000</td>\n",
       "    </tr>\n",
       "    <tr>\n",
       "      <th>2000-05-24</th>\n",
       "      <td>25.734375</td>\n",
       "      <td>26.812500</td>\n",
       "      <td>24.875000</td>\n",
       "      <td>26.812500</td>\n",
       "      <td>23.149824</td>\n",
       "      <td>96400</td>\n",
       "    </tr>\n",
       "    <tr>\n",
       "      <th>2000-05-25</th>\n",
       "      <td>27.593750</td>\n",
       "      <td>27.617188</td>\n",
       "      <td>26.437500</td>\n",
       "      <td>26.437500</td>\n",
       "      <td>22.826054</td>\n",
       "      <td>64800</td>\n",
       "    </tr>\n",
       "    <tr>\n",
       "      <th>...</th>\n",
       "      <td>...</td>\n",
       "      <td>...</td>\n",
       "      <td>...</td>\n",
       "      <td>...</td>\n",
       "      <td>...</td>\n",
       "      <td>...</td>\n",
       "    </tr>\n",
       "    <tr>\n",
       "      <th>2024-04-18</th>\n",
       "      <td>129.520004</td>\n",
       "      <td>130.070007</td>\n",
       "      <td>128.229996</td>\n",
       "      <td>128.410004</td>\n",
       "      <td>128.410004</td>\n",
       "      <td>1468800</td>\n",
       "    </tr>\n",
       "    <tr>\n",
       "      <th>2024-04-19</th>\n",
       "      <td>127.790001</td>\n",
       "      <td>128.190002</td>\n",
       "      <td>124.320000</td>\n",
       "      <td>124.750000</td>\n",
       "      <td>124.750000</td>\n",
       "      <td>2094300</td>\n",
       "    </tr>\n",
       "    <tr>\n",
       "      <th>2024-04-22</th>\n",
       "      <td>125.800003</td>\n",
       "      <td>127.070000</td>\n",
       "      <td>124.559998</td>\n",
       "      <td>126.239998</td>\n",
       "      <td>126.239998</td>\n",
       "      <td>1832600</td>\n",
       "    </tr>\n",
       "    <tr>\n",
       "      <th>2024-04-23</th>\n",
       "      <td>127.080002</td>\n",
       "      <td>128.820007</td>\n",
       "      <td>126.849998</td>\n",
       "      <td>128.520004</td>\n",
       "      <td>128.520004</td>\n",
       "      <td>1326900</td>\n",
       "    </tr>\n",
       "    <tr>\n",
       "      <th>2024-04-24</th>\n",
       "      <td>129.860001</td>\n",
       "      <td>130.169998</td>\n",
       "      <td>128.149994</td>\n",
       "      <td>128.929993</td>\n",
       "      <td>128.929993</td>\n",
       "      <td>677447</td>\n",
       "    </tr>\n",
       "  </tbody>\n",
       "</table>\n",
       "<p>6020 rows × 6 columns</p>\n",
       "</div>"
      ],
      "text/plain": [
       "                  Open        High         Low       Close   Adj Close  \\\n",
       "Date                                                                     \n",
       "2000-05-19   27.765625   27.765625   27.437500   27.437500   23.689451   \n",
       "2000-05-22   26.500000   26.500000   26.500000   26.500000   22.880022   \n",
       "2000-05-23   27.312500   27.312500   27.000000   27.093750   23.392653   \n",
       "2000-05-24   25.734375   26.812500   24.875000   26.812500   23.149824   \n",
       "2000-05-25   27.593750   27.617188   26.437500   26.437500   22.826054   \n",
       "...                ...         ...         ...         ...         ...   \n",
       "2024-04-18  129.520004  130.070007  128.229996  128.410004  128.410004   \n",
       "2024-04-19  127.790001  128.190002  124.320000  124.750000  124.750000   \n",
       "2024-04-22  125.800003  127.070000  124.559998  126.239998  126.239998   \n",
       "2024-04-23  127.080002  128.820007  126.849998  128.520004  128.520004   \n",
       "2024-04-24  129.860001  130.169998  128.149994  128.929993  128.929993   \n",
       "\n",
       "             Volume  \n",
       "Date                 \n",
       "2000-05-19    80000  \n",
       "2000-05-22      400  \n",
       "2000-05-23   104000  \n",
       "2000-05-24    96400  \n",
       "2000-05-25    64800  \n",
       "...             ...  \n",
       "2024-04-18  1468800  \n",
       "2024-04-19  2094300  \n",
       "2024-04-22  1832600  \n",
       "2024-04-23  1326900  \n",
       "2024-04-24   677447  \n",
       "\n",
       "[6020 rows x 6 columns]"
      ]
     },
     "execution_count": 16,
     "metadata": {},
     "output_type": "execute_result"
    }
   ],
   "source": [
    "iyw"
   ]
  },
  {
   "cell_type": "code",
   "execution_count": 17,
   "id": "540a925d",
   "metadata": {},
   "outputs": [],
   "source": [
    "#Resample to get annual close value\n",
    "iyw_annual_close = iyw['Close'].resample('A').last()"
   ]
  },
  {
   "cell_type": "markdown",
   "id": "2fc61ca3",
   "metadata": {},
   "source": [
    "In pandas, `Series.resample(\"A\").last()` is a very powerful method-chain that is used to downsample a time series to a yearly frequency and then it returns the last observation of each year. Here's a breakdown of the code.\n",
    "\n",
    "* `Series.resample(\"A\")`: This part of the method is used for resampling time series data. The `\"A\"` parameter stands for 'annual' or 'year-end frequency'. It groups the data into 'one-year bins', with each bin corresponding to a calendar year. <br>\n",
    "<br>\n",
    "* `.last()`: This function is applied to each 'bin' created by the resample method and returns the final value of each year.\n",
    "\n",
    "This method is very useful when you want to analyze or report year-end values from a time series dataset, such as stock prices or annual sales data."
   ]
  },
  {
   "cell_type": "code",
   "execution_count": 18,
   "id": "ffbfeec3",
   "metadata": {},
   "outputs": [
    {
     "name": "stdout",
     "output_type": "stream",
     "text": [
      "Date\n",
      "2000-12-31     18.640625\n",
      "2001-12-31     13.300000\n",
      "2002-12-31      8.125000\n",
      "2003-12-31     12.127500\n",
      "2004-12-31     12.115000\n",
      "2005-12-31     12.430000\n",
      "2006-12-31     13.612500\n",
      "2007-12-31     15.615000\n",
      "2008-12-31      8.832500\n",
      "2009-12-31     14.385000\n",
      "2010-12-31     16.094999\n",
      "2011-12-31     15.975000\n",
      "2012-12-31     17.680000\n",
      "2013-12-31     22.110001\n",
      "2014-12-31     26.100000\n",
      "2015-12-31     26.757500\n",
      "2016-12-31     30.062500\n",
      "2017-12-31     40.692501\n",
      "2018-12-31     39.982498\n",
      "2019-12-31     58.150002\n",
      "2020-12-31     85.080002\n",
      "2021-12-31    114.820000\n",
      "2022-12-31     74.489998\n",
      "2023-12-31    122.750000\n",
      "2024-12-31    128.929993\n",
      "Freq: A-DEC, Name: Close, dtype: float64\n"
     ]
    }
   ],
   "source": [
    "print(iyw_annual_close)"
   ]
  },
  {
   "cell_type": "markdown",
   "id": "fe9c9128",
   "metadata": {},
   "source": [
    "Now let's put this resampled Series to use."
   ]
  },
  {
   "cell_type": "code",
   "execution_count": 19,
   "id": "f9c35865",
   "metadata": {},
   "outputs": [],
   "source": [
    "#using pct_change, we calculate the year-end change in closing price as a percentage\n",
    "iyw_annual_growth_rates = iyw_annual_close.pct_change().dropna()"
   ]
  },
  {
   "cell_type": "code",
   "execution_count": 20,
   "id": "00024bad",
   "metadata": {},
   "outputs": [
    {
     "data": {
      "text/plain": [
       "Date\n",
       "2001-12-31   -0.286505\n",
       "2002-12-31   -0.389098\n",
       "2003-12-31    0.492615\n",
       "2004-12-31   -0.001031\n",
       "2005-12-31    0.026001\n",
       "2006-12-31    0.095133\n",
       "2007-12-31    0.147107\n",
       "2008-12-31   -0.434358\n",
       "2009-12-31    0.628644\n",
       "2010-12-31    0.118874\n",
       "2011-12-31   -0.007456\n",
       "2012-12-31    0.106729\n",
       "2013-12-31    0.250566\n",
       "2014-12-31    0.180461\n",
       "2015-12-31    0.025192\n",
       "2016-12-31    0.123517\n",
       "2017-12-31    0.353597\n",
       "2018-12-31   -0.017448\n",
       "2019-12-31    0.454386\n",
       "2020-12-31    0.463113\n",
       "2021-12-31    0.349553\n",
       "2022-12-31   -0.351245\n",
       "2023-12-31    0.647872\n",
       "2024-12-31    0.050346\n",
       "Freq: A-DEC, Name: Close, dtype: float64"
      ]
     },
     "execution_count": 20,
     "metadata": {},
     "output_type": "execute_result"
    }
   ],
   "source": [
    "iyw_annual_growth_rates"
   ]
  },
  {
   "cell_type": "code",
   "execution_count": 21,
   "id": "aff4ae68",
   "metadata": {},
   "outputs": [],
   "source": [
    "iyw_average_annual_growth = iyw_annual_growth_rates.mean()"
   ]
  },
  {
   "cell_type": "code",
   "execution_count": 22,
   "id": "607dc8ce",
   "metadata": {},
   "outputs": [],
   "source": [
    "average_annual_growth_percentage = iyw_average_annual_growth * 100"
   ]
  },
  {
   "cell_type": "code",
   "execution_count": 23,
   "id": "da974fe4",
   "metadata": {},
   "outputs": [
    {
     "name": "stdout",
     "output_type": "stream",
     "text": [
      "12.610692603895052\n"
     ]
    }
   ],
   "source": [
    "print(average_annual_growth_percentage)"
   ]
  },
  {
   "cell_type": "markdown",
   "id": "262bd456",
   "metadata": {},
   "source": [
    "According to this data analysis, the average annual growth rate of **BlackRock's iShares Technology ETF (IYW)** is a **12.6% year-over-year increase** dating back to 2001. \n",
    "\n",
    "Given that the tech sector is poised to see even more exponential growth because of rapid AI advancements, it seems that diversified and savvy tech investors stand to experience tremendous growth over the coming years. However, that's only if tech continues booming and market sentiment remains strong."
   ]
  },
  {
   "cell_type": "markdown",
   "id": "b69f1739",
   "metadata": {},
   "source": [
    "# Calculating Risk for BlackRock's ETF"
   ]
  },
  {
   "cell_type": "markdown",
   "id": "2367a675",
   "metadata": {},
   "source": [
    "To calculate the risk for BlackRock's ETF, we'll want to refer to the standard deviation."
   ]
  },
  {
   "cell_type": "code",
   "execution_count": 24,
   "id": "c17f1eb1",
   "metadata": {},
   "outputs": [],
   "source": [
    "iyw_returns = iyw['Close'].pct_change()"
   ]
  },
  {
   "cell_type": "code",
   "execution_count": 25,
   "id": "096c71f7",
   "metadata": {},
   "outputs": [],
   "source": [
    "iyw_risk = iyw_returns.std()"
   ]
  },
  {
   "cell_type": "code",
   "execution_count": 26,
   "id": "7713adee",
   "metadata": {},
   "outputs": [
    {
     "name": "stdout",
     "output_type": "stream",
     "text": [
      "The annualized risk of BlackRock's IYW ETF is: 0.27316699256448945\n"
     ]
    }
   ],
   "source": [
    "iyw_annualized_risk = iyw_risk * np.sqrt(252)\n",
    "print(f\"The annualized risk of BlackRock's IYW ETF is: {iyw_annualized_risk}\")"
   ]
  },
  {
   "cell_type": "markdown",
   "id": "732f4277",
   "metadata": {},
   "source": [
    "The annual risk value seems quite high. However, as the old sayings goes, the greater the risk, the greater the reward. With that in mind, it's important to assess your own risk tolerance. \n",
    "\n",
    "How much can you realistically afford to lose if the market turns downward?\n",
    "\n",
    "Now, if you consider yourself a person with low risk tolerance, than the S&P 500 may be a better choice than a technology ETF. In the next part of this project, we'll graph the performance of the S&P 500 over it's lifetime, assess the average annual growth, and calculate annual risk for the S&P 500."
   ]
  },
  {
   "cell_type": "markdown",
   "id": "60ddb153",
   "metadata": {},
   "source": [
    "# S&P 500 Performance Analysis\n",
    "\n",
    "The S&P 500 index, as we know it today, was introduced in 1957. However, its historical data can be traced back to 1927 because Standard & Poor’s had a stock index that preceded the S&P 500. This earlier index included a smaller number of stocks and was expanded over the years. When the S&P 500 was launched, it was back-calculated to 1927 to provide a continuous record of the U.S. stock market’s performance.\n",
    "\n",
    "This back-calculation was done using historical stock prices and other financial data from that period. The process involved reconstructing the index as if it had existed in its current form since 1927, allowing for a consistent comparison of market performance over time. This is why platforms like Yahoo Finance can provide historical data for the S&P 500 (SPX) going back to 1927, despite the actual index starting in 1957."
   ]
  },
  {
   "cell_type": "code",
   "execution_count": 27,
   "id": "f79a6e11",
   "metadata": {},
   "outputs": [],
   "source": [
    "spx = pd.read_csv(\"sp500.csv\")"
   ]
  },
  {
   "cell_type": "code",
   "execution_count": 28,
   "id": "584114c5",
   "metadata": {},
   "outputs": [
    {
     "data": {
      "text/html": [
       "<div>\n",
       "<style scoped>\n",
       "    .dataframe tbody tr th:only-of-type {\n",
       "        vertical-align: middle;\n",
       "    }\n",
       "\n",
       "    .dataframe tbody tr th {\n",
       "        vertical-align: top;\n",
       "    }\n",
       "\n",
       "    .dataframe thead th {\n",
       "        text-align: right;\n",
       "    }\n",
       "</style>\n",
       "<table border=\"1\" class=\"dataframe\">\n",
       "  <thead>\n",
       "    <tr style=\"text-align: right;\">\n",
       "      <th></th>\n",
       "      <th>Date</th>\n",
       "      <th>Open</th>\n",
       "      <th>High</th>\n",
       "      <th>Low</th>\n",
       "      <th>Close</th>\n",
       "      <th>Adj Close</th>\n",
       "      <th>Volume</th>\n",
       "    </tr>\n",
       "  </thead>\n",
       "  <tbody>\n",
       "    <tr>\n",
       "      <th>0</th>\n",
       "      <td>1927-12-30</td>\n",
       "      <td>17.660000</td>\n",
       "      <td>17.660000</td>\n",
       "      <td>17.660000</td>\n",
       "      <td>17.660000</td>\n",
       "      <td>17.660000</td>\n",
       "      <td>0</td>\n",
       "    </tr>\n",
       "    <tr>\n",
       "      <th>1</th>\n",
       "      <td>1928-01-03</td>\n",
       "      <td>17.760000</td>\n",
       "      <td>17.760000</td>\n",
       "      <td>17.760000</td>\n",
       "      <td>17.760000</td>\n",
       "      <td>17.760000</td>\n",
       "      <td>0</td>\n",
       "    </tr>\n",
       "    <tr>\n",
       "      <th>2</th>\n",
       "      <td>1928-01-04</td>\n",
       "      <td>17.719999</td>\n",
       "      <td>17.719999</td>\n",
       "      <td>17.719999</td>\n",
       "      <td>17.719999</td>\n",
       "      <td>17.719999</td>\n",
       "      <td>0</td>\n",
       "    </tr>\n",
       "    <tr>\n",
       "      <th>3</th>\n",
       "      <td>1928-01-05</td>\n",
       "      <td>17.549999</td>\n",
       "      <td>17.549999</td>\n",
       "      <td>17.549999</td>\n",
       "      <td>17.549999</td>\n",
       "      <td>17.549999</td>\n",
       "      <td>0</td>\n",
       "    </tr>\n",
       "    <tr>\n",
       "      <th>4</th>\n",
       "      <td>1928-01-06</td>\n",
       "      <td>17.660000</td>\n",
       "      <td>17.660000</td>\n",
       "      <td>17.660000</td>\n",
       "      <td>17.660000</td>\n",
       "      <td>17.660000</td>\n",
       "      <td>0</td>\n",
       "    </tr>\n",
       "    <tr>\n",
       "      <th>...</th>\n",
       "      <td>...</td>\n",
       "      <td>...</td>\n",
       "      <td>...</td>\n",
       "      <td>...</td>\n",
       "      <td>...</td>\n",
       "      <td>...</td>\n",
       "      <td>...</td>\n",
       "    </tr>\n",
       "    <tr>\n",
       "      <th>24191</th>\n",
       "      <td>2024-04-22</td>\n",
       "      <td>4987.330078</td>\n",
       "      <td>5038.839844</td>\n",
       "      <td>4969.399902</td>\n",
       "      <td>5010.600098</td>\n",
       "      <td>5010.600098</td>\n",
       "      <td>3820250000</td>\n",
       "    </tr>\n",
       "    <tr>\n",
       "      <th>24192</th>\n",
       "      <td>2024-04-23</td>\n",
       "      <td>5028.850098</td>\n",
       "      <td>5076.120117</td>\n",
       "      <td>5027.959961</td>\n",
       "      <td>5070.549805</td>\n",
       "      <td>5070.549805</td>\n",
       "      <td>3751400000</td>\n",
       "    </tr>\n",
       "    <tr>\n",
       "      <th>24193</th>\n",
       "      <td>2024-04-24</td>\n",
       "      <td>5084.859863</td>\n",
       "      <td>5089.479980</td>\n",
       "      <td>5047.020020</td>\n",
       "      <td>5071.629883</td>\n",
       "      <td>5071.629883</td>\n",
       "      <td>3656740000</td>\n",
       "    </tr>\n",
       "    <tr>\n",
       "      <th>24194</th>\n",
       "      <td>2024-04-25</td>\n",
       "      <td>5019.879883</td>\n",
       "      <td>5057.750000</td>\n",
       "      <td>4990.580078</td>\n",
       "      <td>5048.419922</td>\n",
       "      <td>5048.419922</td>\n",
       "      <td>3958050000</td>\n",
       "    </tr>\n",
       "    <tr>\n",
       "      <th>24195</th>\n",
       "      <td>2024-04-26</td>\n",
       "      <td>5084.649902</td>\n",
       "      <td>5114.620117</td>\n",
       "      <td>5073.140137</td>\n",
       "      <td>5106.540039</td>\n",
       "      <td>5106.540039</td>\n",
       "      <td>1471689124</td>\n",
       "    </tr>\n",
       "  </tbody>\n",
       "</table>\n",
       "<p>24196 rows × 7 columns</p>\n",
       "</div>"
      ],
      "text/plain": [
       "             Date         Open         High          Low        Close  \\\n",
       "0      1927-12-30    17.660000    17.660000    17.660000    17.660000   \n",
       "1      1928-01-03    17.760000    17.760000    17.760000    17.760000   \n",
       "2      1928-01-04    17.719999    17.719999    17.719999    17.719999   \n",
       "3      1928-01-05    17.549999    17.549999    17.549999    17.549999   \n",
       "4      1928-01-06    17.660000    17.660000    17.660000    17.660000   \n",
       "...           ...          ...          ...          ...          ...   \n",
       "24191  2024-04-22  4987.330078  5038.839844  4969.399902  5010.600098   \n",
       "24192  2024-04-23  5028.850098  5076.120117  5027.959961  5070.549805   \n",
       "24193  2024-04-24  5084.859863  5089.479980  5047.020020  5071.629883   \n",
       "24194  2024-04-25  5019.879883  5057.750000  4990.580078  5048.419922   \n",
       "24195  2024-04-26  5084.649902  5114.620117  5073.140137  5106.540039   \n",
       "\n",
       "         Adj Close      Volume  \n",
       "0        17.660000           0  \n",
       "1        17.760000           0  \n",
       "2        17.719999           0  \n",
       "3        17.549999           0  \n",
       "4        17.660000           0  \n",
       "...            ...         ...  \n",
       "24191  5010.600098  3820250000  \n",
       "24192  5070.549805  3751400000  \n",
       "24193  5071.629883  3656740000  \n",
       "24194  5048.419922  3958050000  \n",
       "24195  5106.540039  1471689124  \n",
       "\n",
       "[24196 rows x 7 columns]"
      ]
     },
     "execution_count": 28,
     "metadata": {},
     "output_type": "execute_result"
    }
   ],
   "source": [
    "spx"
   ]
  },
  {
   "cell_type": "markdown",
   "id": "0a5581b8",
   "metadata": {},
   "source": [
    "Now that we've got the S&P 500 loaded into a dataframe, let's do some exploring and cleaning."
   ]
  },
  {
   "cell_type": "code",
   "execution_count": 29,
   "id": "91aab259",
   "metadata": {},
   "outputs": [
    {
     "name": "stdout",
     "output_type": "stream",
     "text": [
      "<class 'pandas.core.frame.DataFrame'>\n",
      "RangeIndex: 24196 entries, 0 to 24195\n",
      "Data columns (total 7 columns):\n",
      " #   Column     Non-Null Count  Dtype  \n",
      "---  ------     --------------  -----  \n",
      " 0   Date       24196 non-null  object \n",
      " 1   Open       24196 non-null  float64\n",
      " 2   High       24196 non-null  float64\n",
      " 3   Low        24196 non-null  float64\n",
      " 4   Close      24196 non-null  float64\n",
      " 5   Adj Close  24196 non-null  float64\n",
      " 6   Volume     24196 non-null  int64  \n",
      "dtypes: float64(5), int64(1), object(1)\n",
      "memory usage: 1.3+ MB\n"
     ]
    }
   ],
   "source": [
    "spx.info()"
   ]
  },
  {
   "cell_type": "markdown",
   "id": "f62571d2",
   "metadata": {},
   "source": [
    "We'll want to convert the date column into datetime, since datetime is more compatible with pandas and matplotlib."
   ]
  },
  {
   "cell_type": "code",
   "execution_count": 30,
   "id": "a7e7ff96",
   "metadata": {},
   "outputs": [],
   "source": [
    "spx['Date'] = pd.to_datetime(spx['Date'])"
   ]
  },
  {
   "cell_type": "code",
   "execution_count": 31,
   "id": "b4d10eda",
   "metadata": {},
   "outputs": [
    {
     "name": "stdout",
     "output_type": "stream",
     "text": [
      "<class 'pandas.core.frame.DataFrame'>\n",
      "RangeIndex: 24196 entries, 0 to 24195\n",
      "Data columns (total 7 columns):\n",
      " #   Column     Non-Null Count  Dtype         \n",
      "---  ------     --------------  -----         \n",
      " 0   Date       24196 non-null  datetime64[ns]\n",
      " 1   Open       24196 non-null  float64       \n",
      " 2   High       24196 non-null  float64       \n",
      " 3   Low        24196 non-null  float64       \n",
      " 4   Close      24196 non-null  float64       \n",
      " 5   Adj Close  24196 non-null  float64       \n",
      " 6   Volume     24196 non-null  int64         \n",
      "dtypes: datetime64[ns](1), float64(5), int64(1)\n",
      "memory usage: 1.3 MB\n"
     ]
    }
   ],
   "source": [
    "spx.info()"
   ]
  },
  {
   "cell_type": "markdown",
   "id": "1efd3311",
   "metadata": {},
   "source": [
    "Next, we'll use the Series.value_counts() function to return the frequencies of all the unique values in our datasets. This is useful for finding non-integer values that may throw off our calculations."
   ]
  },
  {
   "cell_type": "code",
   "execution_count": 32,
   "id": "02f26402",
   "metadata": {},
   "outputs": [],
   "source": [
    "sp_columns = spx.columns"
   ]
  },
  {
   "cell_type": "code",
   "execution_count": 33,
   "id": "0738483f",
   "metadata": {},
   "outputs": [
    {
     "name": "stdout",
     "output_type": "stream",
     "text": [
      "Date\n",
      "1927-12-30    1\n",
      "1992-04-13    1\n",
      "1992-04-27    1\n",
      "1992-04-24    1\n",
      "1992-04-23    1\n",
      "             ..\n",
      "1960-03-23    1\n",
      "1960-03-22    1\n",
      "1960-03-21    1\n",
      "1960-03-18    1\n",
      "2024-04-26    1\n",
      "Name: count, Length: 24196, dtype: int64\n",
      "Open\n",
      "0.000000       5075\n",
      "14.700000        14\n",
      "14.940000        13\n",
      "11.670000        13\n",
      "11.920000        13\n",
      "               ... \n",
      "429.980011        1\n",
      "429.929993        1\n",
      "432.059998        1\n",
      "435.309998        1\n",
      "5084.649902       1\n",
      "Name: count, Length: 13564, dtype: int64\n",
      "High\n",
      "14.700000      14\n",
      "14.940000      13\n",
      "11.670000      13\n",
      "11.920000      13\n",
      "12.080000      12\n",
      "               ..\n",
      "280.890015      1\n",
      "282.309998      1\n",
      "289.109985      1\n",
      "290.779999      1\n",
      "5114.620117     1\n",
      "Name: count, Length: 16677, dtype: int64\n",
      "Low\n",
      "14.700000      14\n",
      "11.670000      13\n",
      "14.940000      13\n",
      "11.920000      13\n",
      "10.790000      12\n",
      "               ..\n",
      "246.339996      1\n",
      "249.679993      1\n",
      "237.639999      1\n",
      "239.000000      1\n",
      "5073.140137     1\n",
      "Name: count, Length: 16675, dtype: int64\n",
      "Close\n",
      "14.700000      14\n",
      "11.920000      13\n",
      "14.940000      13\n",
      "11.670000      13\n",
      "12.800000      12\n",
      "               ..\n",
      "314.519989      1\n",
      "305.230011      1\n",
      "298.079987      1\n",
      "282.700012      1\n",
      "5106.540039     1\n",
      "Name: count, Length: 16675, dtype: int64\n",
      "Adj Close\n",
      "14.700000      14\n",
      "11.920000      13\n",
      "14.940000      13\n",
      "11.670000      13\n",
      "12.800000      12\n",
      "               ..\n",
      "314.519989      1\n",
      "305.230011      1\n",
      "298.079987      1\n",
      "282.700012      1\n",
      "5106.540039     1\n",
      "Name: count, Length: 16675, dtype: int64\n",
      "Volume\n",
      "0             5496\n",
      "2180000         23\n",
      "1790000         22\n",
      "2500000         21\n",
      "2010000         21\n",
      "              ... \n",
      "324920000        1\n",
      "319490000        1\n",
      "305490000        1\n",
      "310690000        1\n",
      "1471689124       1\n",
      "Name: count, Length: 12923, dtype: int64\n"
     ]
    }
   ],
   "source": [
    "for c in sp_columns:\n",
    "    print(spx[c].value_counts())"
   ]
  },
  {
   "cell_type": "markdown",
   "id": "612c07a9",
   "metadata": {},
   "source": [
    "Besides the date column, there doesn't appear to be any non-integer values in any of the other columns. We can move onto creating our first visualization. Let's try and reuse some code from earlier visualizations."
   ]
  },
  {
   "cell_type": "markdown",
   "id": "9e6a9439",
   "metadata": {},
   "source": [
    "Let's focus on how the S&P 500 performed during COVID-19."
   ]
  },
  {
   "cell_type": "code",
   "execution_count": 34,
   "id": "e0ee4391",
   "metadata": {},
   "outputs": [],
   "source": [
    "spx_covid = spx[spx['Date'].between(pd.to_datetime('2019-08-01'),pd.to_datetime('2024-03-24'))]"
   ]
  },
  {
   "cell_type": "code",
   "execution_count": 35,
   "id": "3bd33957",
   "metadata": {},
   "outputs": [
    {
     "data": {
      "image/png": "[encoded data removed]",
      "text/plain": [
       "<Figure size 950x400 with 1 Axes>"
      ]
     },
     "metadata": {},
     "output_type": "display_data"
    }
   ],
   "source": [
    "fig, ax = plt.subplots(figsize=(9.5,4))\n",
    "ax.plot(spx_covid['Date'], spx_covid['Close'].rolling(30).mean(), linewidth=1, color='#bf00ff')\n",
    "ax.set_ylabel('Share Price $',fontsize=10)\n",
    "ax.tick_params(axis='x',labelsize=10)\n",
    "ax.tick_params(axis='y',labelsize=12)\n",
    "ax.text(pd.to_datetime('2019-07-01'),5300,s=\"S&P 500 (SPX) during Covid-19\")\n",
    "ax.axvspan(pd.to_datetime('2020-03-11'),pd.to_datetime('2023-05-11'), alpha=0.2, color='green')\n",
    "ax.axvline(pd.to_datetime('2019-12-31'), color='#bf0000', linewidth=1.75, linestyle='-', ymax=0.77)\n",
    "ax.text(pd.to_datetime('2019-12-08'), 4600, s='Covid Discovered in China', size=8, rotation=15, color='#bf0000', weight='bold')\n",
    "ax.axvline(pd.to_datetime('2020-03-11'), linewidth=1.75, linestyle='-', color='#bf0000', ymax=0.6)\n",
    "ax.text(pd.to_datetime('2020-02-10'), 4133, rotation=15, color='#bf0000', s='WHO Declares Global Pandemic', size=8, weight='bold')\n",
    "ax.axvline(pd.to_datetime('2020-03-20'), color='blue', linewidth=1.75, linestyle='-', ymax=0.3)\n",
    "ax.text(pd.to_datetime('2020-03-20'), 3350, rotation=15, color='blue', s='Interest Rates Cut', size=8, weight='bold')\n",
    "ax.axvline(pd.to_datetime('2022-03-01'), color='#bf0000', linewidth=1.75, linestyle='-', ymax=0.8)\n",
    "ax.text(pd.to_datetime('2022-02-08'), 4700, rotation=15, color='#bf0000', s='Fed Raises Rates', size=8, weight='bold')\n",
    "ax.text(pd.to_datetime('2022-11-15'), 4700, rotation=15, color='blue', s='OpenAI Introduces ChatGPT', size=8, weight='bold')\n",
    "ax.axvline(pd.to_datetime('2022-11-30'), color='blue', linewidth=1.75, linestyle='-', ymax=0.8)\n",
    "\n",
    "fig.savefig('/Users/reese/Downloads/spx_covid.pdf')"
   ]
  },
  {
   "cell_type": "markdown",
   "id": "8a212aea",
   "metadata": {},
   "source": [
    "# Calculating the Average Annual Growth of the S&P 500\n",
    "\n",
    "Next, we'll calculate the average annual growth of the S&P 500."
   ]
  },
  {
   "cell_type": "code",
   "execution_count": 36,
   "id": "db0807ad",
   "metadata": {},
   "outputs": [],
   "source": [
    "spx.set_index('Date',inplace=True)"
   ]
  },
  {
   "cell_type": "code",
   "execution_count": 37,
   "id": "84abec9e",
   "metadata": {},
   "outputs": [
    {
     "data": {
      "text/html": [
       "<div>\n",
       "<style scoped>\n",
       "    .dataframe tbody tr th:only-of-type {\n",
       "        vertical-align: middle;\n",
       "    }\n",
       "\n",
       "    .dataframe tbody tr th {\n",
       "        vertical-align: top;\n",
       "    }\n",
       "\n",
       "    .dataframe thead th {\n",
       "        text-align: right;\n",
       "    }\n",
       "</style>\n",
       "<table border=\"1\" class=\"dataframe\">\n",
       "  <thead>\n",
       "    <tr style=\"text-align: right;\">\n",
       "      <th></th>\n",
       "      <th>Open</th>\n",
       "      <th>High</th>\n",
       "      <th>Low</th>\n",
       "      <th>Close</th>\n",
       "      <th>Adj Close</th>\n",
       "      <th>Volume</th>\n",
       "    </tr>\n",
       "    <tr>\n",
       "      <th>Date</th>\n",
       "      <th></th>\n",
       "      <th></th>\n",
       "      <th></th>\n",
       "      <th></th>\n",
       "      <th></th>\n",
       "      <th></th>\n",
       "    </tr>\n",
       "  </thead>\n",
       "  <tbody>\n",
       "    <tr>\n",
       "      <th>1927-12-30</th>\n",
       "      <td>17.660000</td>\n",
       "      <td>17.660000</td>\n",
       "      <td>17.660000</td>\n",
       "      <td>17.660000</td>\n",
       "      <td>17.660000</td>\n",
       "      <td>0</td>\n",
       "    </tr>\n",
       "    <tr>\n",
       "      <th>1928-01-03</th>\n",
       "      <td>17.760000</td>\n",
       "      <td>17.760000</td>\n",
       "      <td>17.760000</td>\n",
       "      <td>17.760000</td>\n",
       "      <td>17.760000</td>\n",
       "      <td>0</td>\n",
       "    </tr>\n",
       "    <tr>\n",
       "      <th>1928-01-04</th>\n",
       "      <td>17.719999</td>\n",
       "      <td>17.719999</td>\n",
       "      <td>17.719999</td>\n",
       "      <td>17.719999</td>\n",
       "      <td>17.719999</td>\n",
       "      <td>0</td>\n",
       "    </tr>\n",
       "    <tr>\n",
       "      <th>1928-01-05</th>\n",
       "      <td>17.549999</td>\n",
       "      <td>17.549999</td>\n",
       "      <td>17.549999</td>\n",
       "      <td>17.549999</td>\n",
       "      <td>17.549999</td>\n",
       "      <td>0</td>\n",
       "    </tr>\n",
       "    <tr>\n",
       "      <th>1928-01-06</th>\n",
       "      <td>17.660000</td>\n",
       "      <td>17.660000</td>\n",
       "      <td>17.660000</td>\n",
       "      <td>17.660000</td>\n",
       "      <td>17.660000</td>\n",
       "      <td>0</td>\n",
       "    </tr>\n",
       "    <tr>\n",
       "      <th>...</th>\n",
       "      <td>...</td>\n",
       "      <td>...</td>\n",
       "      <td>...</td>\n",
       "      <td>...</td>\n",
       "      <td>...</td>\n",
       "      <td>...</td>\n",
       "    </tr>\n",
       "    <tr>\n",
       "      <th>2024-04-22</th>\n",
       "      <td>4987.330078</td>\n",
       "      <td>5038.839844</td>\n",
       "      <td>4969.399902</td>\n",
       "      <td>5010.600098</td>\n",
       "      <td>5010.600098</td>\n",
       "      <td>3820250000</td>\n",
       "    </tr>\n",
       "    <tr>\n",
       "      <th>2024-04-23</th>\n",
       "      <td>5028.850098</td>\n",
       "      <td>5076.120117</td>\n",
       "      <td>5027.959961</td>\n",
       "      <td>5070.549805</td>\n",
       "      <td>5070.549805</td>\n",
       "      <td>3751400000</td>\n",
       "    </tr>\n",
       "    <tr>\n",
       "      <th>2024-04-24</th>\n",
       "      <td>5084.859863</td>\n",
       "      <td>5089.479980</td>\n",
       "      <td>5047.020020</td>\n",
       "      <td>5071.629883</td>\n",
       "      <td>5071.629883</td>\n",
       "      <td>3656740000</td>\n",
       "    </tr>\n",
       "    <tr>\n",
       "      <th>2024-04-25</th>\n",
       "      <td>5019.879883</td>\n",
       "      <td>5057.750000</td>\n",
       "      <td>4990.580078</td>\n",
       "      <td>5048.419922</td>\n",
       "      <td>5048.419922</td>\n",
       "      <td>3958050000</td>\n",
       "    </tr>\n",
       "    <tr>\n",
       "      <th>2024-04-26</th>\n",
       "      <td>5084.649902</td>\n",
       "      <td>5114.620117</td>\n",
       "      <td>5073.140137</td>\n",
       "      <td>5106.540039</td>\n",
       "      <td>5106.540039</td>\n",
       "      <td>1471689124</td>\n",
       "    </tr>\n",
       "  </tbody>\n",
       "</table>\n",
       "<p>24196 rows × 6 columns</p>\n",
       "</div>"
      ],
      "text/plain": [
       "                   Open         High          Low        Close    Adj Close  \\\n",
       "Date                                                                          \n",
       "1927-12-30    17.660000    17.660000    17.660000    17.660000    17.660000   \n",
       "1928-01-03    17.760000    17.760000    17.760000    17.760000    17.760000   \n",
       "1928-01-04    17.719999    17.719999    17.719999    17.719999    17.719999   \n",
       "1928-01-05    17.549999    17.549999    17.549999    17.549999    17.549999   \n",
       "1928-01-06    17.660000    17.660000    17.660000    17.660000    17.660000   \n",
       "...                 ...          ...          ...          ...          ...   \n",
       "2024-04-22  4987.330078  5038.839844  4969.399902  5010.600098  5010.600098   \n",
       "2024-04-23  5028.850098  5076.120117  5027.959961  5070.549805  5070.549805   \n",
       "2024-04-24  5084.859863  5089.479980  5047.020020  5071.629883  5071.629883   \n",
       "2024-04-25  5019.879883  5057.750000  4990.580078  5048.419922  5048.419922   \n",
       "2024-04-26  5084.649902  5114.620117  5073.140137  5106.540039  5106.540039   \n",
       "\n",
       "                Volume  \n",
       "Date                    \n",
       "1927-12-30           0  \n",
       "1928-01-03           0  \n",
       "1928-01-04           0  \n",
       "1928-01-05           0  \n",
       "1928-01-06           0  \n",
       "...                ...  \n",
       "2024-04-22  3820250000  \n",
       "2024-04-23  3751400000  \n",
       "2024-04-24  3656740000  \n",
       "2024-04-25  3958050000  \n",
       "2024-04-26  1471689124  \n",
       "\n",
       "[24196 rows x 6 columns]"
      ]
     },
     "execution_count": 37,
     "metadata": {},
     "output_type": "execute_result"
    }
   ],
   "source": [
    "spx"
   ]
  },
  {
   "cell_type": "code",
   "execution_count": 38,
   "id": "8b6425b9",
   "metadata": {},
   "outputs": [
    {
     "data": {
      "text/plain": [
       "Date\n",
       "1927-12-31      17.660000\n",
       "1928-12-31      24.350000\n",
       "1929-12-31      21.450001\n",
       "1930-12-31      15.340000\n",
       "1931-12-31       8.120000\n",
       "                 ...     \n",
       "2020-12-31    3756.070068\n",
       "2021-12-31    4766.180176\n",
       "2022-12-31    3839.500000\n",
       "2023-12-31    4769.830078\n",
       "2024-12-31    5106.540039\n",
       "Freq: A-DEC, Name: Close, Length: 98, dtype: float64"
      ]
     },
     "execution_count": 38,
     "metadata": {},
     "output_type": "execute_result"
    }
   ],
   "source": [
    "spx_annual_close = spx['Close'].resample('A').last()\n",
    "#this will show the SPX closing price on the last day of each year\n",
    "spx_annual_close"
   ]
  },
  {
   "cell_type": "code",
   "execution_count": 39,
   "id": "b567a40c",
   "metadata": {},
   "outputs": [],
   "source": [
    "#this will find the growth rate for each year\n",
    "spx_annual_growth_rates = spx_annual_close.pct_change().dropna()"
   ]
  },
  {
   "cell_type": "code",
   "execution_count": 40,
   "id": "b5ac1cce",
   "metadata": {
    "scrolled": true
   },
   "outputs": [
    {
     "data": {
      "text/plain": [
       "Date\n",
       "1928-12-31    0.378822\n",
       "1929-12-31   -0.119096\n",
       "1930-12-31   -0.284849\n",
       "1931-12-31   -0.470665\n",
       "1932-12-31   -0.147783\n",
       "                ...   \n",
       "2020-12-31    0.162589\n",
       "2021-12-31    0.268927\n",
       "2022-12-31   -0.194428\n",
       "2023-12-31    0.242305\n",
       "2024-12-31    0.070592\n",
       "Freq: A-DEC, Name: Close, Length: 97, dtype: float64"
      ]
     },
     "execution_count": 40,
     "metadata": {},
     "output_type": "execute_result"
    }
   ],
   "source": [
    "spx_annual_growth_rates"
   ]
  },
  {
   "cell_type": "code",
   "execution_count": 41,
   "id": "79d20a79",
   "metadata": {},
   "outputs": [
    {
     "name": "stdout",
     "output_type": "stream",
     "text": [
      "The average yearly growth rate for the S&P 500 is 7.84%\n"
     ]
    }
   ],
   "source": [
    "print(f\"The average yearly growth rate for the S&P 500 is {round(spx_annual_growth_rates.mean() * 100,2)}%\")"
   ]
  },
  {
   "cell_type": "markdown",
   "id": "2cea6f08",
   "metadata": {},
   "source": [
    "Dating back to 1928, the average growth of the S&P 500 is 7.8%, which is very strong, considering over 12 recessions have happened since 1928.\n",
    "\n",
    "Now that we have the average annual growth rate of Blackrock's Technology ETF and the S&P 500, let's compare how an investment of $100,000 would grow over five years."
   ]
  },
  {
   "cell_type": "markdown",
   "id": "6cc18103",
   "metadata": {},
   "source": [
    "# Calculating the Risk of Investing in the S&P 500 (SPX)\n",
    "\n",
    "Just like the last time, we'll refer to the standard deviation to calulcate the risk of the S&P 500. \n",
    "\n",
    "We'll use the `Close` column for our calculations."
   ]
  },
  {
   "cell_type": "code",
   "execution_count": 42,
   "id": "c8ba0989",
   "metadata": {},
   "outputs": [
    {
     "name": "stdout",
     "output_type": "stream",
     "text": [
      "The annualized risk of the S&P 500 is: 0.19414534621109442\n"
     ]
    }
   ],
   "source": [
    "spx = spx.reset_index()\n",
    "\n",
    "spx_slice = spx[spx['Date'].between(pd.to_datetime('2000-05-19'),pd.to_datetime('2024-04-24'))]\n",
    "\n",
    "spx_returns = spx_slice['Close'].pct_change()\n",
    "\n",
    "spx_risk = spx_returns.std() * np.sqrt(252)\n",
    "\n",
    "print(f\"The annualized risk of the S&P 500 is: {spx_risk}\")"
   ]
  },
  {
   "cell_type": "markdown",
   "id": "c21852c8",
   "metadata": {},
   "source": [
    "# Investment Comparison"
   ]
  },
  {
   "cell_type": "code",
   "execution_count": 43,
   "id": "02b91b5f",
   "metadata": {},
   "outputs": [
    {
     "name": "stdout",
     "output_type": "stream",
     "text": [
      "After 5 years of average growth, $100,000 will grow to $145577.35 if invested in the S&P 500\n"
     ]
    }
   ],
   "source": [
    "spx_investment = 100000\n",
    "growth_rate = 0.078\n",
    "years = 5\n",
    "\n",
    "final_amount = spx_investment * ((1 + growth_rate) ** years)\n",
    "\n",
    "print(f\"After 5 years of average growth, $100,000 will grow to ${final_amount:.2f} if invested in the S&P 500\")"
   ]
  },
  {
   "cell_type": "code",
   "execution_count": 44,
   "id": "a9748d3e",
   "metadata": {},
   "outputs": [
    {
     "name": "stdout",
     "output_type": "stream",
     "text": [
      "After 5 years of average growth, $100,000 will grow to $182618.81 if invested in Blackrock's Technology ETF. \n"
     ]
    }
   ],
   "source": [
    "iyw_investment = 100000\n",
    "growth_rate = 0.128\n",
    "years = 5\n",
    "\n",
    "final_amount = iyw_investment * ((1 + growth_rate) ** years)\n",
    "\n",
    "print(f\"After 5 years of average growth, $100,000 will grow to ${final_amount:.2f} if invested in Blackrock's Technology ETF. \")"
   ]
  },
  {
   "cell_type": "markdown",
   "id": "2980689f",
   "metadata": {},
   "source": [
    "# Final Visualization\n",
    "\n",
    "\n",
    "For the final visualization, we're going to overlay the S&P 500 (SPX) with BlackRock Inc's iShares Technology ETF (IYW). This will allow us to compare how both indices perform during the highs and lows of the stock market. However, since the IYW only goes back to May 19, 2000, we'll go ahead and take a snippet from the SPX that mirrors this length of time."
   ]
  },
  {
   "cell_type": "code",
   "execution_count": 45,
   "id": "a11d5f3b",
   "metadata": {},
   "outputs": [
    {
     "data": {
      "text/html": [
       "<div>\n",
       "<style scoped>\n",
       "    .dataframe tbody tr th:only-of-type {\n",
       "        vertical-align: middle;\n",
       "    }\n",
       "\n",
       "    .dataframe tbody tr th {\n",
       "        vertical-align: top;\n",
       "    }\n",
       "\n",
       "    .dataframe thead th {\n",
       "        text-align: right;\n",
       "    }\n",
       "</style>\n",
       "<table border=\"1\" class=\"dataframe\">\n",
       "  <thead>\n",
       "    <tr style=\"text-align: right;\">\n",
       "      <th></th>\n",
       "      <th>Date</th>\n",
       "      <th>Open</th>\n",
       "      <th>High</th>\n",
       "      <th>Low</th>\n",
       "      <th>Close</th>\n",
       "      <th>Adj Close</th>\n",
       "      <th>Volume</th>\n",
       "    </tr>\n",
       "  </thead>\n",
       "  <tbody>\n",
       "    <tr>\n",
       "      <th>18174</th>\n",
       "      <td>2000-05-19</td>\n",
       "      <td>1437.209961</td>\n",
       "      <td>1437.209961</td>\n",
       "      <td>1401.739990</td>\n",
       "      <td>1406.949951</td>\n",
       "      <td>1406.949951</td>\n",
       "      <td>853700000</td>\n",
       "    </tr>\n",
       "    <tr>\n",
       "      <th>18175</th>\n",
       "      <td>2000-05-22</td>\n",
       "      <td>1406.949951</td>\n",
       "      <td>1410.550049</td>\n",
       "      <td>1368.729980</td>\n",
       "      <td>1400.719971</td>\n",
       "      <td>1400.719971</td>\n",
       "      <td>869000000</td>\n",
       "    </tr>\n",
       "    <tr>\n",
       "      <th>18176</th>\n",
       "      <td>2000-05-23</td>\n",
       "      <td>1400.719971</td>\n",
       "      <td>1403.770020</td>\n",
       "      <td>1373.430054</td>\n",
       "      <td>1373.859985</td>\n",
       "      <td>1373.859985</td>\n",
       "      <td>869900000</td>\n",
       "    </tr>\n",
       "    <tr>\n",
       "      <th>18177</th>\n",
       "      <td>2000-05-24</td>\n",
       "      <td>1373.859985</td>\n",
       "      <td>1401.750000</td>\n",
       "      <td>1361.089966</td>\n",
       "      <td>1399.050049</td>\n",
       "      <td>1399.050049</td>\n",
       "      <td>1152300000</td>\n",
       "    </tr>\n",
       "    <tr>\n",
       "      <th>18178</th>\n",
       "      <td>2000-05-25</td>\n",
       "      <td>1399.050049</td>\n",
       "      <td>1411.650024</td>\n",
       "      <td>1373.930054</td>\n",
       "      <td>1381.520020</td>\n",
       "      <td>1381.520020</td>\n",
       "      <td>984500000</td>\n",
       "    </tr>\n",
       "    <tr>\n",
       "      <th>...</th>\n",
       "      <td>...</td>\n",
       "      <td>...</td>\n",
       "      <td>...</td>\n",
       "      <td>...</td>\n",
       "      <td>...</td>\n",
       "      <td>...</td>\n",
       "      <td>...</td>\n",
       "    </tr>\n",
       "    <tr>\n",
       "      <th>24189</th>\n",
       "      <td>2024-04-18</td>\n",
       "      <td>5031.520020</td>\n",
       "      <td>5056.660156</td>\n",
       "      <td>5001.890137</td>\n",
       "      <td>5011.120117</td>\n",
       "      <td>5011.120117</td>\n",
       "      <td>3619760000</td>\n",
       "    </tr>\n",
       "    <tr>\n",
       "      <th>24190</th>\n",
       "      <td>2024-04-19</td>\n",
       "      <td>5005.439941</td>\n",
       "      <td>5019.020020</td>\n",
       "      <td>4953.560059</td>\n",
       "      <td>4967.229980</td>\n",
       "      <td>4967.229980</td>\n",
       "      <td>3878750000</td>\n",
       "    </tr>\n",
       "    <tr>\n",
       "      <th>24191</th>\n",
       "      <td>2024-04-22</td>\n",
       "      <td>4987.330078</td>\n",
       "      <td>5038.839844</td>\n",
       "      <td>4969.399902</td>\n",
       "      <td>5010.600098</td>\n",
       "      <td>5010.600098</td>\n",
       "      <td>3820250000</td>\n",
       "    </tr>\n",
       "    <tr>\n",
       "      <th>24192</th>\n",
       "      <td>2024-04-23</td>\n",
       "      <td>5028.850098</td>\n",
       "      <td>5076.120117</td>\n",
       "      <td>5027.959961</td>\n",
       "      <td>5070.549805</td>\n",
       "      <td>5070.549805</td>\n",
       "      <td>3751400000</td>\n",
       "    </tr>\n",
       "    <tr>\n",
       "      <th>24193</th>\n",
       "      <td>2024-04-24</td>\n",
       "      <td>5084.859863</td>\n",
       "      <td>5089.479980</td>\n",
       "      <td>5047.020020</td>\n",
       "      <td>5071.629883</td>\n",
       "      <td>5071.629883</td>\n",
       "      <td>3656740000</td>\n",
       "    </tr>\n",
       "  </tbody>\n",
       "</table>\n",
       "<p>6020 rows × 7 columns</p>\n",
       "</div>"
      ],
      "text/plain": [
       "            Date         Open         High          Low        Close  \\\n",
       "18174 2000-05-19  1437.209961  1437.209961  1401.739990  1406.949951   \n",
       "18175 2000-05-22  1406.949951  1410.550049  1368.729980  1400.719971   \n",
       "18176 2000-05-23  1400.719971  1403.770020  1373.430054  1373.859985   \n",
       "18177 2000-05-24  1373.859985  1401.750000  1361.089966  1399.050049   \n",
       "18178 2000-05-25  1399.050049  1411.650024  1373.930054  1381.520020   \n",
       "...          ...          ...          ...          ...          ...   \n",
       "24189 2024-04-18  5031.520020  5056.660156  5001.890137  5011.120117   \n",
       "24190 2024-04-19  5005.439941  5019.020020  4953.560059  4967.229980   \n",
       "24191 2024-04-22  4987.330078  5038.839844  4969.399902  5010.600098   \n",
       "24192 2024-04-23  5028.850098  5076.120117  5027.959961  5070.549805   \n",
       "24193 2024-04-24  5084.859863  5089.479980  5047.020020  5071.629883   \n",
       "\n",
       "         Adj Close      Volume  \n",
       "18174  1406.949951   853700000  \n",
       "18175  1400.719971   869000000  \n",
       "18176  1373.859985   869900000  \n",
       "18177  1399.050049  1152300000  \n",
       "18178  1381.520020   984500000  \n",
       "...            ...         ...  \n",
       "24189  5011.120117  3619760000  \n",
       "24190  4967.229980  3878750000  \n",
       "24191  5010.600098  3820250000  \n",
       "24192  5070.549805  3751400000  \n",
       "24193  5071.629883  3656740000  \n",
       "\n",
       "[6020 rows x 7 columns]"
      ]
     },
     "execution_count": 45,
     "metadata": {},
     "output_type": "execute_result"
    }
   ],
   "source": [
    "spx = spx[spx['Date'].between(pd.to_datetime('2000-05-19'),pd.to_datetime('2024-04-24'))]\n",
    "spx"
   ]
  },
  {
   "cell_type": "code",
   "execution_count": 46,
   "id": "f7e4dc24",
   "metadata": {},
   "outputs": [
    {
     "data": {
      "text/html": [
       "<div>\n",
       "<style scoped>\n",
       "    .dataframe tbody tr th:only-of-type {\n",
       "        vertical-align: middle;\n",
       "    }\n",
       "\n",
       "    .dataframe tbody tr th {\n",
       "        vertical-align: top;\n",
       "    }\n",
       "\n",
       "    .dataframe thead th {\n",
       "        text-align: right;\n",
       "    }\n",
       "</style>\n",
       "<table border=\"1\" class=\"dataframe\">\n",
       "  <thead>\n",
       "    <tr style=\"text-align: right;\">\n",
       "      <th></th>\n",
       "      <th>Date</th>\n",
       "      <th>Open</th>\n",
       "      <th>High</th>\n",
       "      <th>Low</th>\n",
       "      <th>Close</th>\n",
       "      <th>Adj Close</th>\n",
       "      <th>Volume</th>\n",
       "    </tr>\n",
       "  </thead>\n",
       "  <tbody>\n",
       "    <tr>\n",
       "      <th>0</th>\n",
       "      <td>2000-05-19</td>\n",
       "      <td>27.765625</td>\n",
       "      <td>27.765625</td>\n",
       "      <td>27.437500</td>\n",
       "      <td>27.437500</td>\n",
       "      <td>23.689451</td>\n",
       "      <td>80000</td>\n",
       "    </tr>\n",
       "    <tr>\n",
       "      <th>1</th>\n",
       "      <td>2000-05-22</td>\n",
       "      <td>26.500000</td>\n",
       "      <td>26.500000</td>\n",
       "      <td>26.500000</td>\n",
       "      <td>26.500000</td>\n",
       "      <td>22.880022</td>\n",
       "      <td>400</td>\n",
       "    </tr>\n",
       "    <tr>\n",
       "      <th>2</th>\n",
       "      <td>2000-05-23</td>\n",
       "      <td>27.312500</td>\n",
       "      <td>27.312500</td>\n",
       "      <td>27.000000</td>\n",
       "      <td>27.093750</td>\n",
       "      <td>23.392653</td>\n",
       "      <td>104000</td>\n",
       "    </tr>\n",
       "    <tr>\n",
       "      <th>3</th>\n",
       "      <td>2000-05-24</td>\n",
       "      <td>25.734375</td>\n",
       "      <td>26.812500</td>\n",
       "      <td>24.875000</td>\n",
       "      <td>26.812500</td>\n",
       "      <td>23.149824</td>\n",
       "      <td>96400</td>\n",
       "    </tr>\n",
       "    <tr>\n",
       "      <th>4</th>\n",
       "      <td>2000-05-25</td>\n",
       "      <td>27.593750</td>\n",
       "      <td>27.617188</td>\n",
       "      <td>26.437500</td>\n",
       "      <td>26.437500</td>\n",
       "      <td>22.826054</td>\n",
       "      <td>64800</td>\n",
       "    </tr>\n",
       "    <tr>\n",
       "      <th>...</th>\n",
       "      <td>...</td>\n",
       "      <td>...</td>\n",
       "      <td>...</td>\n",
       "      <td>...</td>\n",
       "      <td>...</td>\n",
       "      <td>...</td>\n",
       "      <td>...</td>\n",
       "    </tr>\n",
       "    <tr>\n",
       "      <th>6015</th>\n",
       "      <td>2024-04-18</td>\n",
       "      <td>129.520004</td>\n",
       "      <td>130.070007</td>\n",
       "      <td>128.229996</td>\n",
       "      <td>128.410004</td>\n",
       "      <td>128.410004</td>\n",
       "      <td>1468800</td>\n",
       "    </tr>\n",
       "    <tr>\n",
       "      <th>6016</th>\n",
       "      <td>2024-04-19</td>\n",
       "      <td>127.790001</td>\n",
       "      <td>128.190002</td>\n",
       "      <td>124.320000</td>\n",
       "      <td>124.750000</td>\n",
       "      <td>124.750000</td>\n",
       "      <td>2094300</td>\n",
       "    </tr>\n",
       "    <tr>\n",
       "      <th>6017</th>\n",
       "      <td>2024-04-22</td>\n",
       "      <td>125.800003</td>\n",
       "      <td>127.070000</td>\n",
       "      <td>124.559998</td>\n",
       "      <td>126.239998</td>\n",
       "      <td>126.239998</td>\n",
       "      <td>1832600</td>\n",
       "    </tr>\n",
       "    <tr>\n",
       "      <th>6018</th>\n",
       "      <td>2024-04-23</td>\n",
       "      <td>127.080002</td>\n",
       "      <td>128.820007</td>\n",
       "      <td>126.849998</td>\n",
       "      <td>128.520004</td>\n",
       "      <td>128.520004</td>\n",
       "      <td>1326900</td>\n",
       "    </tr>\n",
       "    <tr>\n",
       "      <th>6019</th>\n",
       "      <td>2024-04-24</td>\n",
       "      <td>129.860001</td>\n",
       "      <td>130.169998</td>\n",
       "      <td>128.149994</td>\n",
       "      <td>128.929993</td>\n",
       "      <td>128.929993</td>\n",
       "      <td>677447</td>\n",
       "    </tr>\n",
       "  </tbody>\n",
       "</table>\n",
       "<p>6020 rows × 7 columns</p>\n",
       "</div>"
      ],
      "text/plain": [
       "           Date        Open        High         Low       Close   Adj Close  \\\n",
       "0    2000-05-19   27.765625   27.765625   27.437500   27.437500   23.689451   \n",
       "1    2000-05-22   26.500000   26.500000   26.500000   26.500000   22.880022   \n",
       "2    2000-05-23   27.312500   27.312500   27.000000   27.093750   23.392653   \n",
       "3    2000-05-24   25.734375   26.812500   24.875000   26.812500   23.149824   \n",
       "4    2000-05-25   27.593750   27.617188   26.437500   26.437500   22.826054   \n",
       "...         ...         ...         ...         ...         ...         ...   \n",
       "6015 2024-04-18  129.520004  130.070007  128.229996  128.410004  128.410004   \n",
       "6016 2024-04-19  127.790001  128.190002  124.320000  124.750000  124.750000   \n",
       "6017 2024-04-22  125.800003  127.070000  124.559998  126.239998  126.239998   \n",
       "6018 2024-04-23  127.080002  128.820007  126.849998  128.520004  128.520004   \n",
       "6019 2024-04-24  129.860001  130.169998  128.149994  128.929993  128.929993   \n",
       "\n",
       "       Volume  \n",
       "0       80000  \n",
       "1         400  \n",
       "2      104000  \n",
       "3       96400  \n",
       "4       64800  \n",
       "...       ...  \n",
       "6015  1468800  \n",
       "6016  2094300  \n",
       "6017  1832600  \n",
       "6018  1326900  \n",
       "6019   677447  \n",
       "\n",
       "[6020 rows x 7 columns]"
      ]
     },
     "execution_count": 46,
     "metadata": {},
     "output_type": "execute_result"
    }
   ],
   "source": [
    "iyw = iyw.reset_index()\n",
    "iyw"
   ]
  },
  {
   "cell_type": "code",
   "execution_count": 47,
   "id": "63682ca0",
   "metadata": {
    "scrolled": true
   },
   "outputs": [
    {
     "data": {
      "image/png": "[encoded data removed]",
      "text/plain": [
       "<Figure size 1200x450 with 2 Axes>"
      ]
     },
     "metadata": {},
     "output_type": "display_data"
    }
   ],
   "source": [
    "fig, ax1 = plt.subplots(figsize=(12,4.5))\n",
    "\n",
    "#plot the first dataset with a line plot\n",
    "ax1.plot(spx['Date'],spx['Close'].rolling(30).mean(),label='S&P 500',color='blue')\n",
    "ax1.set_ylabel('S&P 500 Value',color='blue',size=10)\n",
    "ax1.tick_params(axis='y',labelcolor='blue')\n",
    "\n",
    "#create a secondary y axis for the IYW data\n",
    "ax2 = ax1.twinx()\n",
    "ax2.plot(iyw['Date'],iyw['Close'].rolling(30).mean(), label='IYW', color='red')\n",
    "ax2.set_ylabel('IYW Value', color='red',size=10)\n",
    "ax2.tick_params(axis='y', labelcolor='red')\n",
    "\n",
    "#add title and legend\n",
    "ax1.set_title('Historical Performance: S&P 500 (SPX) vs iShares Technology ETF (IYW)',size=10,weight='bold')\n",
    "fig.legend(loc='upper left',bbox_to_anchor=(0.1,0.9))\n",
    "\n",
    "fig.savefig('/Users/reese/Downloads/iyw_vs_spx.pdf')"
   ]
  },
  {
   "cell_type": "markdown",
   "id": "a6270f58",
   "metadata": {},
   "source": [
    "# Observations\n",
    "\n",
    "By overlaying the plots of the S&P 500 and the iShares Technology ETF (IYW) on the same axes, we can compare their historical performance over the same time interval. This visual comparison allows us to see how each investment has trended relative to the other during the same period of time.\n",
    "\n",
    "Keep in mind that while the plots are overlaid, the actual values are based on their respective y-axes. \n",
    "\n",
    "The primary y-axis corresponds to the S&P 500 values, and the secondary y-axis corresponds to the IYW values. This setup helps in comparing the relative performance trends without the scales of the two datasets interfering with each other.\n",
    "\n",
    "Since we have matched the date ranges for both datasets, this overlay will provide a meaningful comparison of the historical performance of the two investments. It’s a powerful way to visually analyze the data and make informed decisions based on the trends you observe. "
   ]
  },
  {
   "cell_type": "markdown",
   "id": "d8dfba3b",
   "metadata": {},
   "source": [
    "# Investor Conclusion\n",
    "\n",
    "If you're just getting started with investing, index funds are a great way to experience long-term growth. For even greater growth, technology index funds are very powerful investment vehicles.\n",
    "\n",
    "A good strategy for someone just getting started in their career is to invest money into an S&P index or a technology index such as BlackRock's iShares Tech ETF, and once the portfolio is strong enough, take the money out and buy a house. \n",
    "\n",
    "Once you no longer have to pay rent, start investing whatever you can comfortably afford back into index funds as a way to further diversify your investment portfolio. "
   ]
  },
  {
   "cell_type": "code",
   "execution_count": null,
   "id": "a028c16c",
   "metadata": {},
   "outputs": [],
   "source": []
  }
 ],
 "metadata": {
  "kernelspec": {
   "display_name": "Python 3 (ipykernel)",
   "language": "python",
   "name": "python3"
  },
  "language_info": {
   "codemirror_mode": {
    "name": "ipython",
    "version": 3
   },
   "file_extension": ".py",
   "mimetype": "text/x-python",
   "name": "python",
   "nbconvert_exporter": "python",
   "pygments_lexer": "ipython3",
   "version": "3.11.5"
  }
 },
 "nbformat": 4,
 "nbformat_minor": 5
}
